{
 "cells": [
  {
   "cell_type": "markdown",
   "metadata": {},
   "source": [
    "# Análise de datos con PANDAS"
   ]
  },
  {
   "cell_type": "code",
   "execution_count": 1,
   "metadata": {},
   "outputs": [],
   "source": [
    "import pandas as pd"
   ]
  },
  {
   "cell_type": "markdown",
   "metadata": {},
   "source": [
    "### Apertura do CSV"
   ]
  },
  {
   "cell_type": "code",
   "execution_count": 2,
   "metadata": {},
   "outputs": [
    {
     "data": {
      "text/html": [
       "<div>\n",
       "<style scoped>\n",
       "    .dataframe tbody tr th:only-of-type {\n",
       "        vertical-align: middle;\n",
       "    }\n",
       "\n",
       "    .dataframe tbody tr th {\n",
       "        vertical-align: top;\n",
       "    }\n",
       "\n",
       "    .dataframe thead th {\n",
       "        text-align: right;\n",
       "    }\n",
       "</style>\n",
       "<table border=\"1\" class=\"dataframe\">\n",
       "  <thead>\n",
       "    <tr style=\"text-align: right;\">\n",
       "      <th></th>\n",
       "      <th>Unnamed: 0</th>\n",
       "      <th>dia</th>\n",
       "      <th>pais</th>\n",
       "      <th>contaxios</th>\n",
       "      <th>mortes</th>\n",
       "    </tr>\n",
       "  </thead>\n",
       "  <tbody>\n",
       "    <tr>\n",
       "      <th>0</th>\n",
       "      <td>0</td>\n",
       "      <td>2021-01-01</td>\n",
       "      <td>Spain</td>\n",
       "      <td>18047</td>\n",
       "      <td>148</td>\n",
       "    </tr>\n",
       "    <tr>\n",
       "      <th>1</th>\n",
       "      <td>1</td>\n",
       "      <td>2021-01-02</td>\n",
       "      <td>Spain</td>\n",
       "      <td>0</td>\n",
       "      <td>0</td>\n",
       "    </tr>\n",
       "    <tr>\n",
       "      <th>2</th>\n",
       "      <td>2</td>\n",
       "      <td>2021-01-03</td>\n",
       "      <td>Spain</td>\n",
       "      <td>0</td>\n",
       "      <td>0</td>\n",
       "    </tr>\n",
       "    <tr>\n",
       "      <th>3</th>\n",
       "      <td>3</td>\n",
       "      <td>2021-01-04</td>\n",
       "      <td>Spain</td>\n",
       "      <td>30579</td>\n",
       "      <td>241</td>\n",
       "    </tr>\n",
       "    <tr>\n",
       "      <th>4</th>\n",
       "      <td>4</td>\n",
       "      <td>2021-01-05</td>\n",
       "      <td>Spain</td>\n",
       "      <td>23700</td>\n",
       "      <td>352</td>\n",
       "    </tr>\n",
       "    <tr>\n",
       "      <th>...</th>\n",
       "      <td>...</td>\n",
       "      <td>...</td>\n",
       "      <td>...</td>\n",
       "      <td>...</td>\n",
       "      <td>...</td>\n",
       "    </tr>\n",
       "    <tr>\n",
       "      <th>1090</th>\n",
       "      <td>1090</td>\n",
       "      <td>2021-12-27</td>\n",
       "      <td>France</td>\n",
       "      <td>29614</td>\n",
       "      <td>245</td>\n",
       "    </tr>\n",
       "    <tr>\n",
       "      <th>1091</th>\n",
       "      <td>1091</td>\n",
       "      <td>2021-12-28</td>\n",
       "      <td>France</td>\n",
       "      <td>179316</td>\n",
       "      <td>294</td>\n",
       "    </tr>\n",
       "    <tr>\n",
       "      <th>1092</th>\n",
       "      <td>1092</td>\n",
       "      <td>2021-12-29</td>\n",
       "      <td>France</td>\n",
       "      <td>202293</td>\n",
       "      <td>173</td>\n",
       "    </tr>\n",
       "    <tr>\n",
       "      <th>1093</th>\n",
       "      <td>1093</td>\n",
       "      <td>2021-12-30</td>\n",
       "      <td>France</td>\n",
       "      <td>206243</td>\n",
       "      <td>180</td>\n",
       "    </tr>\n",
       "    <tr>\n",
       "      <th>1094</th>\n",
       "      <td>1094</td>\n",
       "      <td>2021-12-31</td>\n",
       "      <td>France</td>\n",
       "      <td>232200</td>\n",
       "      <td>189</td>\n",
       "    </tr>\n",
       "  </tbody>\n",
       "</table>\n",
       "<p>1095 rows × 5 columns</p>\n",
       "</div>"
      ],
      "text/plain": [
       "      Unnamed: 0         dia    pais  contaxios  mortes\n",
       "0              0  2021-01-01   Spain      18047     148\n",
       "1              1  2021-01-02   Spain          0       0\n",
       "2              2  2021-01-03   Spain          0       0\n",
       "3              3  2021-01-04   Spain      30579     241\n",
       "4              4  2021-01-05   Spain      23700     352\n",
       "...          ...         ...     ...        ...     ...\n",
       "1090        1090  2021-12-27  France      29614     245\n",
       "1091        1091  2021-12-28  France     179316     294\n",
       "1092        1092  2021-12-29  France     202293     173\n",
       "1093        1093  2021-12-30  France     206243     180\n",
       "1094        1094  2021-12-31  France     232200     189\n",
       "\n",
       "[1095 rows x 5 columns]"
      ]
     },
     "execution_count": 2,
     "metadata": {},
     "output_type": "execute_result"
    }
   ],
   "source": [
    "df = pd.read_csv(\"C:\\\\Users\\\\daniel.martinezcarre\\\\Desktop\\\\datasets\\\\datos_covid2021_3paises.csv\")\n",
    "df"
   ]
  },
  {
   "cell_type": "markdown",
   "metadata": {},
   "source": [
    "\n",
    "### Limpia valores nulos e/ou inválidos/vacíos."
   ]
  },
  {
   "cell_type": "code",
   "execution_count": 3,
   "metadata": {},
   "outputs": [
    {
     "name": "stdout",
     "output_type": "stream",
     "text": [
      "<class 'pandas.core.frame.DataFrame'>\n",
      "RangeIndex: 1095 entries, 0 to 1094\n",
      "Data columns (total 5 columns):\n",
      " #   Column      Non-Null Count  Dtype \n",
      "---  ------      --------------  ----- \n",
      " 0   Unnamed: 0  1095 non-null   int64 \n",
      " 1   dia         1095 non-null   object\n",
      " 2   pais        1095 non-null   object\n",
      " 3   contaxios   1095 non-null   int64 \n",
      " 4   mortes      1095 non-null   int64 \n",
      "dtypes: int64(3), object(2)\n",
      "memory usage: 42.9+ KB\n"
     ]
    }
   ],
   "source": [
    "df.info()"
   ]
  },
  {
   "cell_type": "markdown",
   "metadata": {},
   "source": [
    "Vese que non hai ningún dato nulo"
   ]
  },
  {
   "attachments": {},
   "cell_type": "markdown",
   "metadata": {},
   "source": [
    "### 1. Calcula a media de novos casos ao día"
   ]
  },
  {
   "cell_type": "code",
   "execution_count": 4,
   "metadata": {},
   "outputs": [
    {
     "data": {
      "text/html": [
       "<div>\n",
       "<style scoped>\n",
       "    .dataframe tbody tr th:only-of-type {\n",
       "        vertical-align: middle;\n",
       "    }\n",
       "\n",
       "    .dataframe tbody tr th {\n",
       "        vertical-align: top;\n",
       "    }\n",
       "\n",
       "    .dataframe thead th {\n",
       "        text-align: right;\n",
       "    }\n",
       "</style>\n",
       "<table border=\"1\" class=\"dataframe\">\n",
       "  <thead>\n",
       "    <tr style=\"text-align: right;\">\n",
       "      <th></th>\n",
       "      <th>Unnamed: 0</th>\n",
       "      <th>contaxios</th>\n",
       "      <th>mortes</th>\n",
       "    </tr>\n",
       "  </thead>\n",
       "  <tbody>\n",
       "    <tr>\n",
       "      <th>count</th>\n",
       "      <td>1095.000000</td>\n",
       "      <td>1095.000000</td>\n",
       "      <td>1095.000000</td>\n",
       "    </tr>\n",
       "    <tr>\n",
       "      <th>mean</th>\n",
       "      <td>547.000000</td>\n",
       "      <td>12094.346119</td>\n",
       "      <td>98.001826</td>\n",
       "    </tr>\n",
       "    <tr>\n",
       "      <th>std</th>\n",
       "      <td>316.243577</td>\n",
       "      <td>22131.971090</td>\n",
       "      <td>156.600004</td>\n",
       "    </tr>\n",
       "    <tr>\n",
       "      <th>min</th>\n",
       "      <td>0.000000</td>\n",
       "      <td>0.000000</td>\n",
       "      <td>0.000000</td>\n",
       "    </tr>\n",
       "    <tr>\n",
       "      <th>25%</th>\n",
       "      <td>273.500000</td>\n",
       "      <td>740.000000</td>\n",
       "      <td>6.000000</td>\n",
       "    </tr>\n",
       "    <tr>\n",
       "      <th>50%</th>\n",
       "      <td>547.000000</td>\n",
       "      <td>4197.000000</td>\n",
       "      <td>29.000000</td>\n",
       "    </tr>\n",
       "    <tr>\n",
       "      <th>75%</th>\n",
       "      <td>820.500000</td>\n",
       "      <td>14774.500000</td>\n",
       "      <td>126.500000</td>\n",
       "    </tr>\n",
       "    <tr>\n",
       "      <th>max</th>\n",
       "      <td>1094.000000</td>\n",
       "      <td>232200.000000</td>\n",
       "      <td>1163.000000</td>\n",
       "    </tr>\n",
       "  </tbody>\n",
       "</table>\n",
       "</div>"
      ],
      "text/plain": [
       "        Unnamed: 0      contaxios       mortes\n",
       "count  1095.000000    1095.000000  1095.000000\n",
       "mean    547.000000   12094.346119    98.001826\n",
       "std     316.243577   22131.971090   156.600004\n",
       "min       0.000000       0.000000     0.000000\n",
       "25%     273.500000     740.000000     6.000000\n",
       "50%     547.000000    4197.000000    29.000000\n",
       "75%     820.500000   14774.500000   126.500000\n",
       "max    1094.000000  232200.000000  1163.000000"
      ]
     },
     "execution_count": 4,
     "metadata": {},
     "output_type": "execute_result"
    }
   ],
   "source": [
    "df.describe()"
   ]
  },
  {
   "attachments": {},
   "cell_type": "markdown",
   "metadata": {},
   "source": [
    "### 2. Calcula a media de mortes ao día"
   ]
  },
  {
   "cell_type": "code",
   "execution_count": 11,
   "metadata": {},
   "outputs": [
    {
     "name": "stdout",
     "output_type": "stream",
     "text": [
      "98.00182648401827\n"
     ]
    }
   ],
   "source": [
    "print(df[\"mortes\"].mean())"
   ]
  },
  {
   "attachments": {},
   "cell_type": "markdown",
   "metadata": {},
   "source": [
    "### 3. Calcula o número máximo de casos"
   ]
  },
  {
   "cell_type": "code",
   "execution_count": 12,
   "metadata": {},
   "outputs": [
    {
     "name": "stdout",
     "output_type": "stream",
     "text": [
      "232200\n"
     ]
    }
   ],
   "source": [
    "print(df[\"contaxios\"].max())"
   ]
  },
  {
   "attachments": {},
   "cell_type": "markdown",
   "metadata": {},
   "source": [
    "### 4. Calcula o número medio de casos separado por grupos"
   ]
  },
  {
   "cell_type": "code",
   "execution_count": 5,
   "metadata": {},
   "outputs": [
    {
     "data": {
      "text/plain": [
       "pais\n",
       "France      20638.731507\n",
       "Portugal     2666.789041\n",
       "Spain       12977.517808\n",
       "Name: contaxios, dtype: float64"
      ]
     },
     "execution_count": 5,
     "metadata": {},
     "output_type": "execute_result"
    }
   ],
   "source": [
    "df_media_paises = df.groupby(\"pais\")[\"contaxios\"].mean()\n",
    "df_media_paises"
   ]
  },
  {
   "attachments": {},
   "cell_type": "markdown",
   "metadata": {},
   "source": [
    "### 5. Existe unha correlación entre número de novos casos e mortes?"
   ]
  },
  {
   "cell_type": "code",
   "execution_count": 6,
   "metadata": {},
   "outputs": [
    {
     "name": "stdout",
     "output_type": "stream",
     "text": [
      "0.3852333025521261\n"
     ]
    }
   ],
   "source": [
    "correlacion_cont_mortes = df[\"contaxios\"].corr(df[\"mortes\"])\n",
    "print(correlacion_cont_mortes)"
   ]
  },
  {
   "attachments": {},
   "cell_type": "markdown",
   "metadata": {},
   "source": [
    "### 6. No caso de que exista unha relación, en que país é maior?"
   ]
  },
  {
   "cell_type": "code",
   "execution_count": 7,
   "metadata": {},
   "outputs": [
    {
     "name": "stdout",
     "output_type": "stream",
     "text": [
      "pais\n",
      "France      0.298286\n",
      "Portugal    0.563438\n",
      "Spain       0.323957\n",
      "Name: contaxios, dtype: float64\n"
     ]
    }
   ],
   "source": [
    "correlacion_paises = df.groupby(\"pais\")[\"contaxios\"].corr(df[\"mortes\"])\n",
    "print(correlacion_paises)"
   ]
  },
  {
   "cell_type": "markdown",
   "metadata": {},
   "source": [
    "A relación entre casos e mortes é maior en **Portugal**"
   ]
  },
  {
   "attachments": {},
   "cell_type": "markdown",
   "metadata": {},
   "source": [
    "### 7. Cal é a mediana de casos confirmados en Portugal?"
   ]
  },
  {
   "cell_type": "code",
   "execution_count": 8,
   "metadata": {},
   "outputs": [
    {
     "name": "stdout",
     "output_type": "stream",
     "text": [
      "1186.0\n"
     ]
    }
   ],
   "source": [
    "mediana_portugal = df[ df[\"pais\"] == \"Portugal\" ][\"contaxios\"].median()\n",
    "print(mediana_portugal)"
   ]
  },
  {
   "attachments": {},
   "cell_type": "markdown",
   "metadata": {},
   "source": [
    "### 8. Cales son os valores dos percentís Q1 e Q3 de Francia para o número de contaxios"
   ]
  },
  {
   "cell_type": "code",
   "execution_count": 9,
   "metadata": {},
   "outputs": [
    {
     "name": "stdout",
     "output_type": "stream",
     "text": [
      "Q1: 4256.0, Q2: 25087.0\n"
     ]
    }
   ],
   "source": [
    "import numpy as np\n",
    "q1_france, q3_france = np.percentile(df[df[\"pais\"] == \"France\"][\"contaxios\"], [25, 75])\n",
    "print(f\"Q1: {q1_france}, Q2: {q3_france}\")"
   ]
  },
  {
   "cell_type": "markdown",
   "metadata": {},
   "source": [
    "### 9. Cantos valores diferentes hai para o número de contaxios nun día en cada un dos países"
   ]
  },
  {
   "cell_type": "code",
   "execution_count": 16,
   "metadata": {},
   "outputs": [
    {
     "data": {
      "text/plain": [
       "pais\n",
       "France      [19143, 3359, 12489, 4022, 20280, 25020, 0, 41...\n",
       "Portugal    [6951, 3241, 3384, 4369, 4956, 10027, 9927, 10...\n",
       "Spain       [18047, 0, 30579, 23700, 42360, 25456, 61422, ...\n",
       "Name: contaxios, dtype: object"
      ]
     },
     "execution_count": 16,
     "metadata": {},
     "output_type": "execute_result"
    }
   ],
   "source": [
    "df_valores_diferentes = df.groupby(\"pais\")[\"contaxios\"].unique()\n",
    "df_valores_diferentes"
   ]
  },
  {
   "cell_type": "markdown",
   "metadata": {},
   "source": [
    "### 10. Valor mínimo e máximo de contaxios por día para cada país"
   ]
  },
  {
   "cell_type": "markdown",
   "metadata": {},
   "source": [
    "> A función **agg** calcula o mínimo e o máximo da columna \"contaxios\" para cada grupo."
   ]
  },
  {
   "cell_type": "code",
   "execution_count": 18,
   "metadata": {},
   "outputs": [
    {
     "data": {
      "text/html": [
       "<div>\n",
       "<style scoped>\n",
       "    .dataframe tbody tr th:only-of-type {\n",
       "        vertical-align: middle;\n",
       "    }\n",
       "\n",
       "    .dataframe tbody tr th {\n",
       "        vertical-align: top;\n",
       "    }\n",
       "\n",
       "    .dataframe thead th {\n",
       "        text-align: right;\n",
       "    }\n",
       "</style>\n",
       "<table border=\"1\" class=\"dataframe\">\n",
       "  <thead>\n",
       "    <tr style=\"text-align: right;\">\n",
       "      <th></th>\n",
       "      <th></th>\n",
       "      <th>min</th>\n",
       "      <th>max</th>\n",
       "    </tr>\n",
       "    <tr>\n",
       "      <th>dia</th>\n",
       "      <th>pais</th>\n",
       "      <th></th>\n",
       "      <th></th>\n",
       "    </tr>\n",
       "  </thead>\n",
       "  <tbody>\n",
       "    <tr>\n",
       "      <th rowspan=\"3\" valign=\"top\">2021-01-01</th>\n",
       "      <th>France</th>\n",
       "      <td>19143</td>\n",
       "      <td>19143</td>\n",
       "    </tr>\n",
       "    <tr>\n",
       "      <th>Portugal</th>\n",
       "      <td>6951</td>\n",
       "      <td>6951</td>\n",
       "    </tr>\n",
       "    <tr>\n",
       "      <th>Spain</th>\n",
       "      <td>18047</td>\n",
       "      <td>18047</td>\n",
       "    </tr>\n",
       "    <tr>\n",
       "      <th rowspan=\"2\" valign=\"top\">2021-01-02</th>\n",
       "      <th>France</th>\n",
       "      <td>3359</td>\n",
       "      <td>3359</td>\n",
       "    </tr>\n",
       "    <tr>\n",
       "      <th>Portugal</th>\n",
       "      <td>3241</td>\n",
       "      <td>3241</td>\n",
       "    </tr>\n",
       "    <tr>\n",
       "      <th>...</th>\n",
       "      <th>...</th>\n",
       "      <td>...</td>\n",
       "      <td>...</td>\n",
       "    </tr>\n",
       "    <tr>\n",
       "      <th rowspan=\"2\" valign=\"top\">2021-12-30</th>\n",
       "      <th>Portugal</th>\n",
       "      <td>28659</td>\n",
       "      <td>28659</td>\n",
       "    </tr>\n",
       "    <tr>\n",
       "      <th>Spain</th>\n",
       "      <td>161688</td>\n",
       "      <td>161688</td>\n",
       "    </tr>\n",
       "    <tr>\n",
       "      <th rowspan=\"3\" valign=\"top\">2021-12-31</th>\n",
       "      <th>France</th>\n",
       "      <td>232200</td>\n",
       "      <td>232200</td>\n",
       "    </tr>\n",
       "    <tr>\n",
       "      <th>Portugal</th>\n",
       "      <td>30829</td>\n",
       "      <td>30829</td>\n",
       "    </tr>\n",
       "    <tr>\n",
       "      <th>Spain</th>\n",
       "      <td>161688</td>\n",
       "      <td>161688</td>\n",
       "    </tr>\n",
       "  </tbody>\n",
       "</table>\n",
       "<p>1095 rows × 2 columns</p>\n",
       "</div>"
      ],
      "text/plain": [
       "                        min     max\n",
       "dia        pais                    \n",
       "2021-01-01 France     19143   19143\n",
       "           Portugal    6951    6951\n",
       "           Spain      18047   18047\n",
       "2021-01-02 France      3359    3359\n",
       "           Portugal    3241    3241\n",
       "...                     ...     ...\n",
       "2021-12-30 Portugal   28659   28659\n",
       "           Spain     161688  161688\n",
       "2021-12-31 France    232200  232200\n",
       "           Portugal   30829   30829\n",
       "           Spain     161688  161688\n",
       "\n",
       "[1095 rows x 2 columns]"
      ]
     },
     "execution_count": 18,
     "metadata": {},
     "output_type": "execute_result"
    }
   ],
   "source": [
    "df_agrupado = df.groupby([\"dia\", \"pais\"])\n",
    "df_min_max = df_agrupado[\"contaxios\"].agg([\"min\", \"max\"])\n",
    "\n",
    "df_min_max"
   ]
  }
 ],
 "metadata": {
  "kernelspec": {
   "display_name": "bigdata",
   "language": "python",
   "name": "python3"
  },
  "language_info": {
   "codemirror_mode": {
    "name": "ipython",
    "version": 3
   },
   "file_extension": ".py",
   "mimetype": "text/x-python",
   "name": "python",
   "nbconvert_exporter": "python",
   "pygments_lexer": "ipython3",
   "version": "3.8.18"
  },
  "orig_nbformat": 4
 },
 "nbformat": 4,
 "nbformat_minor": 2
}
