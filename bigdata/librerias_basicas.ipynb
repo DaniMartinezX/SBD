{
 "cells": [
  {
   "cell_type": "markdown",
   "metadata": {},
   "source": [
    "#"
   ]
  },
  {
   "cell_type": "markdown",
   "metadata": {},
   "source": [
    "# Estatística básica con Python\n",
    "## Cápitulo 1: Medidas de tendencia central\n",
    "### Media, mediana, moda e cuartiles\n",
    "**AVISO**: Paa os exemplos emprégase numpy e pandas, para instalarlos dende conda executa:\n",
    "\n",
    "> conda install scipy\n",
    "\n",
    "> conda install pandas \n",
    "\n",
    "O paquete scipy ca inclúe numpy, xa que fai uso del."
   ]
  },
  {
   "cell_type": "code",
   "execution_count": 2,
   "metadata": {},
   "outputs": [
    {
     "name": "stdout",
     "output_type": "stream",
     "text": [
      "81.0909090909091\n"
     ]
    }
   ],
   "source": [
    "pesos_estudantes = [87, 83, 90, 65, 58, 67, 88, 87, 90, 89, 88]\n",
    "total_pesos = 0\n",
    "for pesada in pesos_estudantes:\n",
    "    total_pesos += pesada\n",
    "\n",
    "media_pesos = total_pesos / len(pesos_estudantes)\n",
    "print(media_pesos)"
   ]
  },
  {
   "cell_type": "markdown",
   "metadata": {},
   "source": [
    "> Alternativa máis limpa con Python puro:"
   ]
  },
  {
   "cell_type": "code",
   "execution_count": 4,
   "metadata": {},
   "outputs": [
    {
     "name": "stdout",
     "output_type": "stream",
     "text": [
      "81.0909090909091\n"
     ]
    }
   ],
   "source": [
    "pesos_estudantes = [87, 83, 90, 65, 58, 67, 88, 87, 90, 89, 88]\n",
    "media_pesos = sum(pesos_estudantes) / len(pesos_estudantes)\n",
    "print(media_pesos)"
   ]
  },
  {
   "cell_type": "markdown",
   "metadata": {},
   "source": [
    "Código Python con librería **statistics**:"
   ]
  },
  {
   "cell_type": "code",
   "execution_count": 5,
   "metadata": {},
   "outputs": [
    {
     "name": "stdout",
     "output_type": "stream",
     "text": [
      "81.0909090909091\n"
     ]
    }
   ],
   "source": [
    "from statistics import mean\n",
    "pesos_estudantes = [87, 83, 90, 65, 58, 67, 88, 87, 90, 89, 88]\n",
    "media_pesos = mean(pesos_estudantes)\n",
    "print(media_pesos)"
   ]
  },
  {
   "cell_type": "markdown",
   "metadata": {},
   "source": [
    "Código Python coa librería **Numpy**:"
   ]
  },
  {
   "cell_type": "code",
   "execution_count": 6,
   "metadata": {},
   "outputs": [
    {
     "name": "stdout",
     "output_type": "stream",
     "text": [
      "81.0909090909091\n"
     ]
    }
   ],
   "source": [
    "import numpy\n",
    "pesos_estudantes = [87, 83, 90, 65, 58, 67, 88, 87, 90, 89, 88]\n",
    "media_pesos = numpy.mean(pesos_estudantes)\n",
    "print(media_pesos)"
   ]
  }
 ],
 "metadata": {
  "kernelspec": {
   "display_name": "bigdata",
   "language": "python",
   "name": "python3"
  },
  "language_info": {
   "codemirror_mode": {
    "name": "ipython",
    "version": 3
   },
   "file_extension": ".py",
   "mimetype": "text/x-python",
   "name": "python",
   "nbconvert_exporter": "python",
   "pygments_lexer": "ipython3",
   "version": "3.8.18"
  }
 },
 "nbformat": 4,
 "nbformat_minor": 2
}
