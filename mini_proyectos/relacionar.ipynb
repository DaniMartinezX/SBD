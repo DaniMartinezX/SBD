{
 "cells": [
  {
   "cell_type": "markdown",
   "metadata": {},
   "source": [
    "JSON de tipos de cáncer: https://gco.iarc.fr/api/globocan/v2/2020/meta/cancers/all/ <br>\n",
    "JSON de países: https://gco.iarc.fr/api/globocan/v2/2020/meta/populations/all/  <br>\n",
    "JSON combinación: https://gco.iarc.fr/api/globocan/v2/2020/data/population/0/0/all/16/?sort=asr&grouped=1&ages_group=0_17&grouping_cancer=0&include_nmsc=0&include_nmsc_other=0<br>\n",
    "En el combinado se puede sustituir el número '16' por el número correspondiente de cada cáncer"
   ]
  },
  {
   "cell_type": "code",
   "execution_count": null,
   "metadata": {},
   "outputs": [],
   "source": []
  }
 ],
 "metadata": {
  "language_info": {
   "name": "python"
  }
 },
 "nbformat": 4,
 "nbformat_minor": 2
}
