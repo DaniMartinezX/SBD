{
 "cells": [
  {
   "cell_type": "code",
   "execution_count": 8,
   "metadata": {},
   "outputs": [
    {
     "name": "stdout",
     "output_type": "stream",
     "text": [
      "-------------------------------------\n",
      "https://rickandmortyapi.com/api/location?page=2\n",
      "-------------------------------------\n",
      "-------------------------------------\n",
      "https://rickandmortyapi.com/api/location?page=3\n",
      "-------------------------------------\n",
      "-------------------------------------\n",
      "https://rickandmortyapi.com/api/location?page=4\n",
      "-------------------------------------\n",
      "-------------------------------------\n",
      "https://rickandmortyapi.com/api/location?page=5\n",
      "-------------------------------------\n",
      "-------------------------------------\n",
      "https://rickandmortyapi.com/api/location?page=6\n",
      "-------------------------------------\n",
      "-------------------------------------\n",
      "https://rickandmortyapi.com/api/location?page=7\n",
      "-------------------------------------\n",
      "-------------------------------------\n",
      "None\n",
      "-------------------------------------\n"
     ]
    }
   ],
   "source": [
    "import requests\n",
    "import pandas as pd\n",
    "import json\n",
    "\n",
    "def busca_residente(resident_url):\n",
    "    #resident_url = \"https://rickandmortyapi.com/api/character/38\"\n",
    "    resident = requests.get(resident_url).json()\n",
    "    return resident['name'] + \",\" + resident['species']\n",
    "\n",
    "URL=\"https://rickandmortyapi.com/api/location\"\n",
    "\n",
    "ARCHIVO='locations.csv'\n",
    "fichero = open(ARCHIVO, 'w')\n",
    "fichero.write('id,name,type,dimension,resident1-name,resident1-species\\n')\n",
    "while(URL != None):\n",
    "    locations_quest= requests.get(URL)\n",
    "    for location in (locations_quest.json()['results']):\n",
    "        aux_residente=''\n",
    "        if len(location['residents']) > 0:\n",
    "            aux_residente=busca_residente(location['residents'][0])\n",
    "        fila = str(location['id']) + ',' + location['name'] + ',' + location['type'] + ',' + location['dimension'] + \",\" + aux_residente + '\\n'\n",
    "        fichero.write(fila)\n",
    "    URL=locations_quest.json()['info']['next']\n",
    "    print(\"-------------------------------------\")\n",
    "    print(URL)\n",
    "    print(\"-------------------------------------\")\n",
    "\n",
    "fichero.close()"
   ]
  },
  {
   "cell_type": "code",
   "execution_count": 9,
   "metadata": {},
   "outputs": [],
   "source": [
    "df = pd.read_csv(ARCHIVO)\n",
    "df.to_json('locations.json')\n",
    "df.to_parquet('locations.parquet')\n",
    "df.to_csv('locations2.csv')"
   ]
  },
  {
   "cell_type": "code",
   "execution_count": 10,
   "metadata": {},
   "outputs": [
    {
     "data": {
      "text/html": [
       "<div>\n",
       "<style scoped>\n",
       "    .dataframe tbody tr th:only-of-type {\n",
       "        vertical-align: middle;\n",
       "    }\n",
       "\n",
       "    .dataframe tbody tr th {\n",
       "        vertical-align: top;\n",
       "    }\n",
       "\n",
       "    .dataframe thead th {\n",
       "        text-align: right;\n",
       "    }\n",
       "</style>\n",
       "<table border=\"1\" class=\"dataframe\">\n",
       "  <thead>\n",
       "    <tr style=\"text-align: right;\">\n",
       "      <th></th>\n",
       "      <th>id</th>\n",
       "      <th>name</th>\n",
       "      <th>type</th>\n",
       "      <th>dimension</th>\n",
       "      <th>resident1-name</th>\n",
       "      <th>resident1-species</th>\n",
       "    </tr>\n",
       "  </thead>\n",
       "  <tbody>\n",
       "  </tbody>\n",
       "</table>\n",
       "</div>"
      ],
      "text/plain": [
       "Empty DataFrame\n",
       "Columns: [id, name, type, dimension, resident1-name, resident1-species]\n",
       "Index: []"
      ]
     },
     "execution_count": 10,
     "metadata": {},
     "output_type": "execute_result"
    }
   ],
   "source": [
    "df[df['type'] == ' Planet']"
   ]
  },
  {
   "cell_type": "code",
   "execution_count": null,
   "metadata": {},
   "outputs": [],
   "source": [
    "df.groupby([' Dimensión']).size()"
   ]
  },
  {
   "cell_type": "code",
   "execution_count": null,
   "metadata": {},
   "outputs": [],
   "source": [
    "df[df['id']<100]"
   ]
  },
  {
   "cell_type": "code",
   "execution_count": null,
   "metadata": {},
   "outputs": [],
   "source": [
    "df[df['Planeta'].str.startswith('Earth')]"
   ]
  },
  {
   "cell_type": "code",
   "execution_count": null,
   "metadata": {},
   "outputs": [],
   "source": []
  }
 ],
 "metadata": {
  "kernelspec": {
   "display_name": "bigdata",
   "language": "python",
   "name": "python3"
  },
  "language_info": {
   "codemirror_mode": {
    "name": "ipython",
    "version": 3
   },
   "file_extension": ".py",
   "mimetype": "text/x-python",
   "name": "python",
   "nbconvert_exporter": "python",
   "pygments_lexer": "ipython3",
   "version": "3.12.0"
  }
 },
 "nbformat": 4,
 "nbformat_minor": 2
}
