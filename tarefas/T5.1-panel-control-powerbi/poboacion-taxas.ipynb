{
 "cells": [
  {
   "cell_type": "markdown",
   "metadata": {},
   "source": [
    "### Obxetivo\n",
    "Relacionar a variación do número de poboación en Galicia cas taxas de paro, ocupación e actividade."
   ]
  },
  {
   "cell_type": "markdown",
   "metadata": {},
   "source": [
    "- Orixen dos datos das taxas por vía **web**: https://www.ige.gal/igebdt/selector.jsp?COD=6363\n",
    "- Orixen dos datos do número de poboación en Galicia vía **CSV**"
   ]
  },
  {
   "cell_type": "markdown",
   "metadata": {},
   "source": [
    "### Mapa"
   ]
  },
  {
   "cell_type": "markdown",
   "metadata": {},
   "source": [
    "Mostrarase a evolución do número de poboación nas 7 antigas rexións do Reino de Galicia:<br>\n",
    "Esas 7 rexións represéntanse no escudo galego en forma de 7 cruces plateadas que rodean o cáliz.<br>\n",
    "Estas son: **Santiago**, **Betanzos**, **Mondoñedo**, **Tui**, **Lugo**, **Ourense** y **A Coruña**."
   ]
  },
  {
   "cell_type": "markdown",
   "metadata": {},
   "source": []
  },
  {
   "cell_type": "markdown",
   "metadata": {},
   "source": [
    "### Diferencias importantes a ter en conta\n",
    "1) A ***tasa de actividade*** é un indicador máis amplio que inclúe tanto as persoas que buscan traballo como as que están traballando.\n",
    "2) A ***tasa de ocupación*** é un indicador máis específico que se centra únicamente nas persoas que teñen un traballo.\n"
   ]
  },
  {
   "cell_type": "markdown",
   "metadata": {},
   "source": [
    "Script python transformación de edad"
   ]
  },
  {
   "cell_type": "code",
   "execution_count": null,
   "metadata": {},
   "outputs": [],
   "source": [
    "import pandas as pd\n",
    "\n",
    "def transformar_edad_taxas(frase):\n",
    "  if frase == \"de 16 a 24 anos\":\n",
    "    return \"16-24\"\n",
    "  elif frase == \"de 25 a 54 anos\":\n",
    "    return \"25-54\"\n",
    "  elif frase == \"de 55 e máis anos\":\n",
    "    return \"55-69\"\n",
    "  else:\n",
    "    return frase\n",
    "\n",
    "dataset[\"idade_transformada\"] = dataset[\"grupo_idade\"].apply(transformar_edad_taxas)"
   ]
  },
  {
   "cell_type": "markdown",
   "metadata": {},
   "source": [
    "Script python transformación de edad"
   ]
  },
  {
   "cell_type": "code",
   "execution_count": null,
   "metadata": {},
   "outputs": [],
   "source": [
    "import pandas as pd\n",
    "\n",
    "def transformar_edad_poboacion(frase):\n",
    "  if frase in [\"15-19\", \"20-24\"]:\n",
    "    return \"16-24\"\n",
    "  elif frase in [\"25-29\", \"30-34\", \"35-39\", \"40-44\", \"45-49\", \"50-54\"]:\n",
    "    return \"25-54\"\n",
    "  elif frase in [\"55-59\", \"60-64\", \"65-69\"]:\n",
    "    return \"55-69\"\n",
    "  else:\n",
    "    return frase\n",
    "\n",
    "dataset[\"idade_transformada\"] = dataset[\"grupo_idade\"].apply(transformar_edad_poboacion)"
   ]
  }
 ],
 "metadata": {
  "kernelspec": {
   "display_name": "bigdata",
   "language": "python",
   "name": "python3"
  },
  "language_info": {
   "name": "python",
   "version": "3.8.18"
  }
 },
 "nbformat": 4,
 "nbformat_minor": 2
}
