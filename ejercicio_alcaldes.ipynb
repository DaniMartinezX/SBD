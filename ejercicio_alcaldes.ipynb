{
 "cells": [
  {
   "cell_type": "code",
   "execution_count": 2,
   "metadata": {},
   "outputs": [
    {
     "name": "stdout",
     "output_type": "stream",
     "text": [
      "['Alcaldes_1979_1983.xlsx', 'Alcaldes_1983_1987.xlsx', 'Alcaldes_1987_1991.xlsx', 'Alcaldes_1991_1995.xlsx', 'Alcaldes_1995_1999.xlsx', 'Alcaldes_1999_2003.xlsx', 'Alcaldes_2003_2007.xlsx', 'Alcaldes_2007_2011.xlsx', 'Alcaldes_2011_2015.xlsx', 'Alcaldes_2015_2019.xlsx', 'Alcaldes_2019_2023.xlsx']\n"
     ]
    }
   ],
   "source": [
    "import pathlib\n",
    "XSLX=str(pathlib.Path().resolve())+\"/alcaldes\"\n",
    "from os import listdir\n",
    "from os.path import isfile, join\n",
    "ficherosXSLX = [f for f in listdir(XSLX) if isfile(join(XSLX, f))]\n",
    "\n",
    "print(ficherosXSLX)\n",
    "\n",
    "\n",
    "\n",
    "#directorio = \"C:/Users/daniel.martinezcarre/Desktop/Repositorios/sbd_repositorio/SBD/alcaldes/\"\n",
    "#\n",
    "#def cargaAlcaldes(archivo, columna, fila, cabecera, nombreHoja):\n",
    "#    return pd.read_excel(archivo, sheet_name=nombreHoja,\n",
    "  #      names=cabecera, usecols=columna, skiprows=fila)\n",
    "#\n",
    "#archivos = [\n",
    "#    [directorio + 'Alcaldes_1979_1983.xlsx', 'D:K', 8, \n",
    "#        ['CCAA', 'PROVINCIA', 'MUNICIPIO', 'LISTA', 'FECHA POSESION'], 'Alcaldes 1979-1983'],\n",
    "#    [directorio + 'Alcaldes_1983_1987.xlsx', 'D:H', 8, \n",
    "#        ['CCAA', 'PROVINCIA', 'MUNICIPIO', 'LISTA', 'FECHA POSESION'], 'Alcaldes 1983-1987'],\n",
    "#    [directorio + 'Alcaldes_1987_1991.xlsx', 'D:H', 8, \n",
    "#        ['CCAA', 'PROVINCIA', 'MUNICIPIO', 'LISTA', 'FECHA POSESION'], 'Alcaldes 1987-1991'],\n",
    "#    [directorio + 'Alcaldes_1991_1995.xlsx', 'D:H', 8, \n",
    "#        ['CCAA', 'PROVINCIA', 'MUNICIPIO', 'LISTA', 'FECHA POSESION'], 'Alcaldes 1991-1995'],\n",
    "##    [directorio + 'Alcaldes_1995_1999.xlsx', 'D:H', 8, \n",
    "##        ['CCAA', 'PROVINCIA', 'MUNICIPIO', 'LISTA', 'FECHA POSESION'], 'Alcaldes 1995-1999'],\n",
    "##    [directorio + 'Alcaldes_1999_2003.xlsx', 'D:H', 8, \n",
    "##        ['CCAA', 'PROVINCIA', 'MUNICIPIO', 'LISTA', 'FECHA POSESION'], 'Alcaldes 1999-2003'],\n",
    "##    [directorio + 'Alcaldes_2003_2007.xlsx', 'C:G', 8, \n",
    "##        ['CCAA', 'PROVINCIA', 'MUNICIPIO', 'LISTA', 'FECHA POSESION'], 'Alcaldes 2003-2007'],\n",
    "##    [directorio + 'Alcaldes_2007_2011.xlsx', 'C:G', 8, \n",
    "##        ['CCAA', 'PROVINCIA', 'MUNICIPIO', 'LISTA', 'FECHA POSESION'], 'Alcaldes 2007-2011'],\n",
    "##    [directorio + 'Alcaldes_2011_2015.xlsx', 'A:H', 1, \n",
    "##         ['CCAA', 'PROVINCIA', 'MUNICIPIO', 'LISTA', 'FECHA POSESION'], 'Alcaldes 2011-2015'],\n",
    "##    [directorio + 'Alcaldes_2015_2019.xlsx', 'A:H', 1, \n",
    "##         ['CCAA', 'PROVINCIA', 'MUNICIPIO', 'LISTA', 'FECHA POSESION'], 'Alcaldes 2015-2019'],\n",
    "##    [directorio + 'Alcaldes_2019_2023.xlsx', 'A:H', 1, \n",
    "##         ['CCAA', 'PROVINCIA', 'MUNICIPIO', 'LISTA', 'FECHA POSESION'], 'Alcaldes 2015-2019'],\n",
    "##]\n",
    "##\n",
    "###Inicialización do dataframe vacío\n",
    "##dfAlcaldes = pd.DataFrame([])\n",
    "##\n",
    "##\n",
    "##for i in range(0, len(archivos)):\n",
    "##    dfAlcaldes = pd.concat([dfAlcaldes,\n",
    "##        cargaAlcaldes(archivos[i][0], archivos[i][1], \n",
    "##            archivos[i][2], archivos[i][3], archivos[i][4])]\n",
    "#    )\n",
    "\n",
    "#dfAlcaldes.head()\n",
    "\n",
    "#dfAlcaldes = pd.concat\n",
    "\n",
    "\n",
    "#Mandato201520191.xlsx\n",
    "\n",
    "# pd.read_excel(ruta, sheet_name=\"Hoja1\", \n",
    "#     names=['COMUNIDADE', 'PROVINCIA', 'MUNICIPIO', \n",
    "#         'NOMBRE', 'APELIDO1', 'APELIDO2', 'GRUPO', \n",
    "#         'FECHA-POSESION'],\n",
    "#     usecols='A:H')"
   ]
  },
  {
   "cell_type": "code",
   "execution_count": null,
   "metadata": {},
   "outputs": [],
   "source": []
  }
 ],
 "metadata": {
  "kernelspec": {
   "display_name": "bigdata",
   "language": "python",
   "name": "python3"
  },
  "language_info": {
   "codemirror_mode": {
    "name": "ipython",
    "version": 3
   },
   "file_extension": ".py",
   "mimetype": "text/x-python",
   "name": "python",
   "nbconvert_exporter": "python",
   "pygments_lexer": "ipython3",
   "version": "3.8.18"
  }
 },
 "nbformat": 4,
 "nbformat_minor": 2
}
