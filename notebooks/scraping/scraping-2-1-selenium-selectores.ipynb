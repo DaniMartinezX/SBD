{
 "cells": [
  {
   "cell_type": "markdown",
   "metadata": {},
   "source": [
    "# Web Scraping. Capítulo 2.1\n",
    "## Selenium\n",
    "### Selectores\n",
    "\n",
    "Este código permite inicializar selenium, se algo falla durante a execución, non dubides en pechar o navegador e abrir un novo con este bloque."
   ]
  },
  {
   "cell_type": "code",
   "execution_count": null,
   "metadata": {},
   "outputs": [],
   "source": [
    "#Instalar gecko\n",
    "from webdriver_manager.firefox import GeckoDriverManager\n",
    "GeckoDriverManager().install()\n",
    "\n",
    "#Abrir un navegador\n",
    "from selenium import webdriver\n",
    "from selenium.webdriver.common.by import By\n",
    "driver = webdriver.Firefox()"
   ]
  },
  {
   "cell_type": "markdown",
   "metadata": {},
   "source": [
    "#### find_element vs find_elements\n",
    "\n",
    "Mentres que o primeiro devolve só un elemento, o segundo devolve unha lista.\n",
    "\n",
    "Podemos buscar elementos por nome, id, propiedade css...\n"
   ]
  },
  {
   "cell_type": "markdown",
   "metadata": {},
   "source": [
    "TODO: Selectores coas funcións de buscar 1, varios, por class, xpath (dicir diferencias entre versións, o que está deprecated)...\n",
    "\n",
    "E tamén: <https://selenium-python.readthedocs.io/locating-elements.html>"
   ]
  },
  {
   "cell_type": "markdown",
   "metadata": {},
   "source": [
    "### Bibliografía\n",
    "\n",
    "- <https://www.selenium.dev/>\n",
    "- <https://github.com/SeleniumHQ>\n",
    "- <https://selenium-python.readthedocs.io>"
   ]
  }
 ],
 "metadata": {
  "kernelspec": {
   "display_name": "bigdata",
   "language": "python",
   "name": "python3"
  },
  "language_info": {
   "codemirror_mode": {
    "name": "ipython",
    "version": 3
   },
   "file_extension": ".py",
   "mimetype": "text/x-python",
   "name": "python",
   "nbconvert_exporter": "python",
   "pygments_lexer": "ipython3",
   "version": "3.10.13"
  }
 },
 "nbformat": 4,
 "nbformat_minor": 2
}
