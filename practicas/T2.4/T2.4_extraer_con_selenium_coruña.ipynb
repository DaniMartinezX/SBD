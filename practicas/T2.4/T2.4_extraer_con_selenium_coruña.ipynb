{
 "cells": [
  {
   "cell_type": "markdown",
   "metadata": {},
   "source": [
    "# T2.4 Extraer con selenium datos de licitacións do Concello da Coruña\n",
    "Queremos facer un código que garde nunha BBDD a Microsoft SQL Server a información dos expedientes de licitación do Concello da Coruña e nun directorio (no actual) as capturas de pantalla de cada expediente.\n",
    "\n",
    "Para montar o Microsoft SQL Server sigue a guía de: https://jfsanchez.es/docs/docker-sqlserver-microsoft/\n",
    "\n",
    "Debes empregar selenium e a páxina: https://contrataciondelestado.es\n",
    "\n",
    "Debes navegar por ela coma se indica no documento.\n",
    "\n",
    "Por cada elemento (expediente), meterse nel e facer captura de pantalla (automáticamente, coa API de selenium).\n",
    "\n",
    "Entrega:\n",
    "\n",
    "    O código nun jupyter notebook.\n",
    "    A BBDD exportada de Microsoft SQL Server.\n",
    "    Un zip coas capturas de pantalla que fixo selenium.\n"
   ]
  },
  {
   "cell_type": "code",
   "execution_count": 51,
   "metadata": {},
   "outputs": [
    {
     "data": {
      "text/plain": [
       "'C:\\\\Users\\\\daniel.martinezcarre\\\\.wdm\\\\drivers\\\\geckodriver\\\\win64\\\\v0.34.0\\\\geckodriver.exe'"
      ]
     },
     "execution_count": 51,
     "metadata": {},
     "output_type": "execute_result"
    }
   ],
   "source": [
    "from webdriver_manager.firefox import GeckoDriverManager\n",
    "GeckoDriverManager().install()"
   ]
  },
  {
   "cell_type": "markdown",
   "metadata": {},
   "source": [
    "## Importacións"
   ]
  },
  {
   "cell_type": "code",
   "execution_count": 52,
   "metadata": {},
   "outputs": [],
   "source": [
    "import argparse\n",
    "from enum import Enum\n",
    "import sys\n",
    "from selenium import webdriver\n",
    "from selenium.webdriver.common.by import By\n",
    "from selenium import webdriver\n",
    "from selenium.webdriver.support.ui import WebDriverWait\n",
    "from selenium.webdriver.support import expected_conditions as EC\n",
    "import time\n",
    "import random\n",
    "from bs4 import BeautifulSoup\n",
    "import pprint\n",
    "from io import StringIO\n",
    "from bs4 import BeautifulSoup\n",
    "import pandas as pd\n"
   ]
  },
  {
   "cell_type": "markdown",
   "metadata": {},
   "source": [
    "### Variables e funcións"
   ]
  },
  {
   "cell_type": "code",
   "execution_count": 54,
   "metadata": {},
   "outputs": [],
   "source": [
    "URL=\"https://contrataciondelestado.es/\""
   ]
  },
  {
   "cell_type": "code",
   "execution_count": 53,
   "metadata": {},
   "outputs": [],
   "source": [
    "def waitFinishLoad(driver,idLoader,needsDisapeared=False,by=By.ID,needsWait=False):\n",
    "    #Espera a la carga de un elemento antes de continuar\n",
    "    if idLoader is None:\n",
    "        return\n",
    "    WebDriverWait(driver, timeout=10).until(EC.presence_of_element_located((by, idLoader)))\n",
    "    if needsDisapeared:\n",
    "        WebDriverWait(driver, timeout=10).until(EC.invisibility_of_element((by, idLoader)))\n",
    "    if needsWait:\n",
    "        time.sleep(random.choice([0.1,0.2,0.3,0.4,0.5,0.6]))\n",
    "    else:\n",
    "        time.sleep(random.choice([0.05,0.1,0.2]))\n",
    "\n",
    "def elementBy(query,driver,**kargs):\n",
    "    if not kargs.get(\"needsWait\",False):\n",
    "        waitFinishLoad(driver,kargs.get(\"idLoader\",None),by=kargs.get(\"by\",By.ID),needsWait=kargs.get(\"needsWait\",False))\n",
    "    try:\n",
    "        element=driver.find_element(kargs.get(\"byq\",By.XPATH),query)\n",
    "        if kargs.get(\"screenshot\"):\n",
    "            driver.execute_script(\"arguments[0].scrollIntoView();\", element)\n",
    "    except:\n",
    "        return None\n",
    "    waitFinishLoad(driver,kargs.get(\"idLoader\",None),by=kargs.get(\"by\",By.ID),needsWait=kargs.get(\"needsWait\",False))\n",
    "    return element\n",
    "\n",
    "\n",
    "\n",
    "def goToNextPage(driver):\n",
    "    element=elementBy(\"//input[@value='Siguiente']\",driver,idLoader=\"//table[@id='myTablaBusquedaCustom']\",by=By.XPATH)\n",
    "    driver.execute_script(\"arguments[0].scrollIntoView();\", element)\n",
    "    element.click()\n"
   ]
  },
  {
   "cell_type": "code",
   "execution_count": 55,
   "metadata": {},
   "outputs": [],
   "source": [
    "def esperar_carga_pagina(driver, url):\n",
    "    \"\"\"\n",
    "    Espera a que la página web se cargue completamente.\n",
    "\n",
    "    Args:\n",
    "        driver: El objeto del navegador web.\n",
    "        url: La URL de la página web que se quiere cargar.\n",
    "    \"\"\"\n",
    "    # Carga la página web\n",
    "    driver.get(url)\n",
    "\n",
    "    # Espera a que la página se cargue completamente\n",
    "    wait = WebDriverWait(driver, 10)\n",
    "    wait.until(lambda driver: driver.execute_script(\"return document.readyState\") == \"complete\")\n",
    "\n",
    "\n",
    "def automatizaciones(driver):\n",
    "    \"\"\"\n",
    "    Ejecuta las automatizaciones en la página web con esperas.\n",
    "\n",
    "    Args:\n",
    "        driver: El objeto del navegador web.\n",
    "    \"\"\"\n",
    "\n",
    "    # Click en 'Publicaciones'\n",
    "    wait = WebDriverWait(driver, 10)\n",
    "    link = wait.until(EC.visibility_of_element_located((By.XPATH, \"//a[@href='/wps/portal/licitaciones']\")))\n",
    "    link.click()\n",
    "\n",
    "    # Click en 'Licitaciones'\n",
    "    wait = WebDriverWait(driver, 10)\n",
    "    link_licitaciones = wait.until(EC.presence_of_element_located((By.CLASS_NAME, \"divLogo\")))\n",
    "    link_licitaciones.click()\n",
    "\n",
    "    # Click en 'Búsqueda avanzada'\n",
    "    wait = WebDriverWait(driver, 10)\n",
    "    link_busqueda_avanzada = wait.until(EC.presence_of_element_located((By.ID, \"viewns_Z7_AVEQAI930OBRD02JPMTPG21004_:form1:textBusquedaAvanzada\")))\n",
    "    link_busqueda_avanzada.click()\n",
    "\n",
    "    # Click en 'Seleccionar'\n",
    "    wait = WebDriverWait(driver, 10)\n",
    "    link_busqueda_avanzada = wait.until(EC.presence_of_element_located((By.ID, \"viewns_Z7_AVEQAI930OBRD02JPMTPG21004_:form1:idSeleccionarOCLink\")))\n",
    "    link_busqueda_avanzada.click()\n",
    "\n",
    "    # Click en 'Entidades'\n",
    "    wait = WebDriverWait(driver, 10)\n",
    "    entidades = wait.until(EC.presence_of_element_located((By.XPATH, \"//div[text()='ENTIDADES LOCALES']/../../td[@class='multiline']\")))\n",
    "    entidades.click()\n",
    "\n",
    "    # Click en 'Galicia'\n",
    "    wait = WebDriverWait(driver, 10)\n",
    "    galicia = wait.until(EC.presence_of_all_elements_located((By.XPATH, \"//div[text()='Galicia']/../../td[@class='multiline']\")))\n",
    "    galicia[1].click()\n",
    "\n",
    "    # Click en 'A Coruña'\n",
    "    wait = WebDriverWait(driver, 10)\n",
    "    link_coruna_1 = wait.until(EC.presence_of_all_elements_located((By.XPATH, \"//div[text()='A Coruña']/../../td[@class='multiline']\")))\n",
    "    link_coruna_1[2].click()\n",
    "\n",
    "    # Click en 'Ayuntamientos'\n",
    "    wait = WebDriverWait(driver, 10)\n",
    "    link_junta = wait.until(EC.presence_of_all_elements_located((By.XPATH, \"//div[text()='Ayuntamientos']/../../td[@class='multiline']\")))\n",
    "    link_junta[3].click()\n",
    "\n",
    "    # Click en 'A Coruña' por 2ª vez\n",
    "    wait = WebDriverWait(driver, 10)\n",
    "    link_junta = wait.until(EC.presence_of_all_elements_located((By.XPATH, \"//div[text()='A Coruña']\")))\n",
    "    link_junta[1].click()\n",
    "\n",
    "    # Click en 'Junta de Gobierno del Ayuntamiento de A Coruña'\n",
    "    wait = WebDriverWait(driver, 10)\n",
    "    link_junta = wait.until(EC.presence_of_element_located((By.XPATH, \"//option[text()='Junta de Gobierno del Ayuntamiento de A Coruña']\")))\n",
    "    link_junta.click()\n",
    "\n",
    "    # Click en 'Añadir'\n",
    "    wait = WebDriverWait(driver, 10)\n",
    "    boton_anhadir = wait.until(EC.presence_of_element_located((By.XPATH, \"//input[@name='viewns_Z7_AVEQAI930OBRD02JPMTPG21004_:form1:botonAnadirMostrarPopUpArbolEO']\")))\n",
    "    boton_anhadir.click()\n",
    "\n",
    "    # Click en 'Buscar'\n",
    "    wait = WebDriverWait(driver, 10)\n",
    "    boton_buscar = wait.until(EC.presence_of_element_located((By.XPATH, \"//input[@title='Buscar']\")))\n",
    "    boton_buscar.click()\n"
   ]
  },
  {
   "cell_type": "markdown",
   "metadata": {},
   "source": [
    "## Carga de la URL y automatizaciones"
   ]
  },
  {
   "cell_type": "code",
   "execution_count": 67,
   "metadata": {},
   "outputs": [],
   "source": [
    "driver = webdriver.Firefox()\n",
    "esperar_carga_pagina(driver, URL)\n",
    "automatizaciones(driver)"
   ]
  },
  {
   "cell_type": "markdown",
   "metadata": {},
   "source": [
    "## Parseado de tabla e introducción de valores con BeautifulSoup4"
   ]
  },
  {
   "cell_type": "code",
   "execution_count": 68,
   "metadata": {},
   "outputs": [],
   "source": [
    "body = driver.execute_script(\"return document.body\")\n",
    "page = body.get_attribute(\"innerHTML\")"
   ]
  },
  {
   "cell_type": "markdown",
   "metadata": {},
   "source": [
    "#### Parseo a HTML"
   ]
  },
  {
   "cell_type": "code",
   "execution_count": 69,
   "metadata": {},
   "outputs": [],
   "source": [
    "soup = BeautifulSoup(page, \"html.parser\")"
   ]
  },
  {
   "cell_type": "markdown",
   "metadata": {},
   "source": [
    "### Extracción de cabeceiras"
   ]
  },
  {
   "cell_type": "code",
   "execution_count": 70,
   "metadata": {},
   "outputs": [
    {
     "name": "stdout",
     "output_type": "stream",
     "text": [
      "['Expediente', 'Tipo de Contrato', 'Estado', 'Importe', 'Fechas', 'Órgano de Contratación']\n"
     ]
    }
   ],
   "source": [
    "def sacar_cabeceras():\n",
    "    \"\"\"\n",
    "    Imprime las cabeceras de la tabla\n",
    "    \"\"\"\n",
    "    header = []\n",
    "    job_elements = soup.find('table', id=\"myTablaBusquedaCustom\")\n",
    "\n",
    "    for i, job_element in enumerate(job_elements.find_all('tr')):\n",
    "        if i != 0: break\n",
    "        else:\n",
    "            header = [el.text.strip() for el in job_element.find_all('th')]\n",
    "    print(header)\n",
    "sacar_cabeceras()"
   ]
  },
  {
   "cell_type": "markdown",
   "metadata": {},
   "source": [
    "### Rascado de datos "
   ]
  },
  {
   "cell_type": "code",
   "execution_count": 71,
   "metadata": {},
   "outputs": [],
   "source": [
    "def crearInforme():\n",
    "    \"\"\"\n",
    "    Retorna los datos de la tabla de una página\n",
    "    \"\"\"\n",
    "    rows = []\n",
    "    body = driver.execute_script(\"return document.body\")\n",
    "    source = body.get_attribute('innerHTML')\n",
    "    soup = BeautifulSoup(source, 'html.parser')\n",
    "    job_elements = soup.find('table', id=\"myTablaBusquedaCustom\")\n",
    "    for i, job_element in enumerate(job_elements.find_all('tr')):\n",
    "        if i>1:\n",
    "            row = []        \n",
    "            for el in job_element.find_all('td'):\n",
    "                row.append(el.text.strip())\n",
    "            rows.append(row)\n",
    "    return rows\n",
    "\n",
    "rows = crearInforme()"
   ]
  },
  {
   "cell_type": "code",
   "execution_count": 63,
   "metadata": {},
   "outputs": [
    {
     "data": {
      "text/plain": [
       "20"
      ]
     },
     "execution_count": 63,
     "metadata": {},
     "output_type": "execute_result"
    }
   ],
   "source": [
    "len(rows)"
   ]
  },
  {
   "cell_type": "markdown",
   "metadata": {},
   "source": [
    "## Meterse en el expediente y realizar captura"
   ]
  },
  {
   "cell_type": "code",
   "execution_count": 72,
   "metadata": {},
   "outputs": [
    {
     "name": "stdout",
     "output_type": "stream",
     "text": [
      "Longitud de DATOS --> 20\n",
      "Longitud de DATOS --> 40\n",
      "No hay más páginas\n"
     ]
    }
   ],
   "source": [
    "datos = []\n",
    "\n",
    "def cap_exp():\n",
    "    try:\n",
    "        datos = []\n",
    "        enlaces = []\n",
    "        ind = 0\n",
    "        path = \"C:\\\\Users\\\\daniel.martinezcarre\\\\Desktop\\\\Repositorios\\\\sbd_repositorio\\\\SBD\\\\practicas\\\\T2.4\\\\capturas\\\\\"\n",
    "\n",
    "        while True:\n",
    "\n",
    "            # Inicializo filas para actualizar nuevos datos\n",
    "            filas = []\n",
    "\n",
    "            # Mi actual driver\n",
    "            base_handle = driver.current_window_handle\n",
    "\n",
    "            td = driver.find_elements(By.XPATH,'.//td[@class=\"tdExpediente\"]')\n",
    "            for i in td:\n",
    "                enlace = i.find_element(By.XPATH,'.//div//a[2]').get_attribute(\"href\")\n",
    "                enlaces.append(enlace)\n",
    "\n",
    "            wait = WebDriverWait(driver, 10)\n",
    "\n",
    "            for link in enlaces:\n",
    "                ind += 1\n",
    "                try:\n",
    "                    # Abrir enlace en pestaña nueva\n",
    "                    driver.execute_script(f\"window.open('{link}', 'new_window')\")\n",
    "\n",
    "                    # Cambiar el foco a la nueva pestaña\n",
    "                    driver.switch_to.window(driver.window_handles[-1])\n",
    "\n",
    "                    # Esperar a que la página se cargue\n",
    "                    WebDriverWait(driver, 30).until(\n",
    "                    EC.presence_of_element_located((By.ID, \"footer-newShow\")))\n",
    "                    \n",
    "                    # Capturar la pantalla\n",
    "                    driver.save_screenshot(path+f\"{ind}_expediente.png\")\n",
    "\n",
    "                    driver.close()\n",
    "\n",
    "                    # Cambiar el foco a la pestaña principal\n",
    "                    driver.switch_to.window(driver.window_handles[0])\n",
    "                except Exception as e:\n",
    "                    print(f\"Error al procesar enlace: {link} - {e}\")\n",
    "            \n",
    "            goToNextPage(driver)\n",
    "            filas = crearInforme()\n",
    "\n",
    "            # Descarga de los datos recogidos al conjunto de datos\n",
    "            for i in filas:\n",
    "                datos.append(i)\n",
    "            print(f\"Longitud de DATOS --> {len(datos)}\")\n",
    "            return datos\n",
    "    except:\n",
    "        print(\"No hay más páginas\")\n",
    "\n",
    "# Cargo todos los datos en la variable para insertarlos en la BBDD\n",
    "datos = cap_exp()    \n",
    "    "
   ]
  },
  {
   "cell_type": "markdown",
   "metadata": {},
   "source": [
    "## SQL Server\n",
    "> docker run -e \"ACCEPT_EULA=Y\" -e \"MSSQL_SA_PASSWORD=Abcd1234.\" -e \"MSSQL_PID=Evaluation\" -p 41433:1433 --name sqlpreview --hostname sqlpreview -d mcr.microsoft.com/mssql/server:2022-preview-ubuntu-22.04"
   ]
  },
  {
   "cell_type": "markdown",
   "metadata": {},
   "source": [
    "La contraseña debe tener una mayúscula y 8 caracteres, debemos instalar **pyodbc** para manejar el SQL Server.<br>***conda install -c conda-forge -y pyodbc***"
   ]
  },
  {
   "cell_type": "markdown",
   "metadata": {},
   "source": [
    "### Instalación de driver necesario"
   ]
  },
  {
   "cell_type": "markdown",
   "metadata": {},
   "source": [
    "https://learn.microsoft.com/en-us/sql/connect/odbc/download-odbc-driver-for-sql-server?view=sql-server-ver16#download-for-windows"
   ]
  },
  {
   "cell_type": "code",
   "execution_count": 12,
   "metadata": {},
   "outputs": [],
   "source": [
    "import pyodbc"
   ]
  },
  {
   "cell_type": "code",
   "execution_count": 13,
   "metadata": {},
   "outputs": [],
   "source": [
    "DB_HOST = '10.133.29.229,41433'\n",
    "DB_NAME = 'datos_corunha'\n",
    "DB_USER = 'sa'\n",
    "DB_PASSWORD = 'Abcd1234.'"
   ]
  },
  {
   "cell_type": "markdown",
   "metadata": {},
   "source": [
    "### Establecemos conexión"
   ]
  },
  {
   "cell_type": "code",
   "execution_count": 15,
   "metadata": {},
   "outputs": [
    {
     "name": "stdout",
     "output_type": "stream",
     "text": [
      "DRIVER={ODBC Driver 18 for SQL Server};\n",
      "SERVER=10.133.29.229,41433;DATABASE=datos_corunha;\n",
      "UID=sa;PWD=Abcd1234.;\n",
      "Encrypt=Yes;TrustServerCertificate=Yes\n"
     ]
    },
    {
     "ename": "OperationalError",
     "evalue": "('08001', '[08001] [Microsoft][ODBC Driver 18 for SQL Server]TCP Provider: Tiempo de espera de la operación de espera agotado.\\r\\n (258) (SQLDriverConnect); [08001] [Microsoft][ODBC Driver 18 for SQL Server]Login timeout expired (0); [08001] [Microsoft][ODBC Driver 18 for SQL Server]A network-related or instance-specific error has occurred while establishing a connection to 10.133.29.229,41433. Server is not found or not accessible. Check if instance name is correct and if SQL Server is configured to allow remote connections. For more information see SQL Server Books Online. (258)')",
     "output_type": "error",
     "traceback": [
      "\u001b[1;31m---------------------------------------------------------------------------\u001b[0m",
      "\u001b[1;31mOperationalError\u001b[0m                          Traceback (most recent call last)",
      "\u001b[1;32mc:\\Users\\daniel.martinezcarre\\Desktop\\Repositorios\\sbd_repositorio\\SBD\\practicas\\T2.4\\T2.4_extraer_con_selenium_coruña.ipynb Celda 25\u001b[0m line \u001b[0;36m7\n\u001b[0;32m      <a href='vscode-notebook-cell:/c%3A/Users/daniel.martinezcarre/Desktop/Repositorios/sbd_repositorio/SBD/practicas/T2.4/T2.4_extraer_con_selenium_coru%C3%B1a.ipynb#X33sZmlsZQ%3D%3D?line=0'>1</a>\u001b[0m connectionString \u001b[39m=\u001b[39m \u001b[39mf\u001b[39m\u001b[39m'''\u001b[39m\u001b[39mDRIVER=\u001b[39m\u001b[39m{{\u001b[39;00m\u001b[39mODBC Driver 18 for SQL Server\u001b[39m\u001b[39m}}\u001b[39;00m\u001b[39m;\u001b[39m\n\u001b[0;32m      <a href='vscode-notebook-cell:/c%3A/Users/daniel.martinezcarre/Desktop/Repositorios/sbd_repositorio/SBD/practicas/T2.4/T2.4_extraer_con_selenium_coru%C3%B1a.ipynb#X33sZmlsZQ%3D%3D?line=1'>2</a>\u001b[0m \u001b[39mSERVER=\u001b[39m\u001b[39m{\u001b[39;00mDB_HOST\u001b[39m}\u001b[39;00m\u001b[39m;DATABASE=\u001b[39m\u001b[39m{\u001b[39;00mDB_NAME\u001b[39m}\u001b[39;00m\u001b[39m;\u001b[39m\n\u001b[0;32m      <a href='vscode-notebook-cell:/c%3A/Users/daniel.martinezcarre/Desktop/Repositorios/sbd_repositorio/SBD/practicas/T2.4/T2.4_extraer_con_selenium_coru%C3%B1a.ipynb#X33sZmlsZQ%3D%3D?line=2'>3</a>\u001b[0m \u001b[39mUID=\u001b[39m\u001b[39m{\u001b[39;00mDB_USER\u001b[39m}\u001b[39;00m\u001b[39m;PWD=\u001b[39m\u001b[39m{\u001b[39;00mDB_PASSWORD\u001b[39m}\u001b[39;00m\u001b[39m;\u001b[39m\n\u001b[0;32m      <a href='vscode-notebook-cell:/c%3A/Users/daniel.martinezcarre/Desktop/Repositorios/sbd_repositorio/SBD/practicas/T2.4/T2.4_extraer_con_selenium_coru%C3%B1a.ipynb#X33sZmlsZQ%3D%3D?line=3'>4</a>\u001b[0m \u001b[39mEncrypt=Yes;TrustServerCertificate=Yes\u001b[39m\u001b[39m'''\u001b[39m\n\u001b[0;32m      <a href='vscode-notebook-cell:/c%3A/Users/daniel.martinezcarre/Desktop/Repositorios/sbd_repositorio/SBD/practicas/T2.4/T2.4_extraer_con_selenium_coru%C3%B1a.ipynb#X33sZmlsZQ%3D%3D?line=5'>6</a>\u001b[0m \u001b[39mprint\u001b[39m(connectionString)\n\u001b[1;32m----> <a href='vscode-notebook-cell:/c%3A/Users/daniel.martinezcarre/Desktop/Repositorios/sbd_repositorio/SBD/practicas/T2.4/T2.4_extraer_con_selenium_coru%C3%B1a.ipynb#X33sZmlsZQ%3D%3D?line=6'>7</a>\u001b[0m conexion \u001b[39m=\u001b[39m pyodbc\u001b[39m.\u001b[39;49mconnect(connectionString)\n",
      "\u001b[1;31mOperationalError\u001b[0m: ('08001', '[08001] [Microsoft][ODBC Driver 18 for SQL Server]TCP Provider: Tiempo de espera de la operación de espera agotado.\\r\\n (258) (SQLDriverConnect); [08001] [Microsoft][ODBC Driver 18 for SQL Server]Login timeout expired (0); [08001] [Microsoft][ODBC Driver 18 for SQL Server]A network-related or instance-specific error has occurred while establishing a connection to 10.133.29.229,41433. Server is not found or not accessible. Check if instance name is correct and if SQL Server is configured to allow remote connections. For more information see SQL Server Books Online. (258)')"
     ]
    }
   ],
   "source": [
    "connectionString = f'''DRIVER={{ODBC Driver 18 for SQL Server}};\n",
    "SERVER={DB_HOST};DATABASE={DB_NAME};\n",
    "UID={DB_USER};PWD={DB_PASSWORD};\n",
    "Encrypt=Yes;TrustServerCertificate=Yes'''\n",
    "\n",
    "print(connectionString)\n",
    "conexion = pyodbc.connect(connectionString)\n"
   ]
  },
  {
   "cell_type": "code",
   "execution_count": 61,
   "metadata": {},
   "outputs": [],
   "source": [
    "#Creamos un cursos para logo acceder aos resultados\n",
    "cursor = conexion.cursor()"
   ]
  },
  {
   "cell_type": "markdown",
   "metadata": {},
   "source": [
    "### Creación del dataframe de datos"
   ]
  },
  {
   "cell_type": "code",
   "execution_count": 66,
   "metadata": {},
   "outputs": [],
   "source": [
    "titulos = ['expediente', 'tipo_contrato', 'estado', 'importe', 'fechas', 'organo_contratacion']\n",
    "\n",
    "df = pd.DataFrame(rows, columns= titulos)"
   ]
  },
  {
   "cell_type": "code",
   "execution_count": 67,
   "metadata": {},
   "outputs": [
    {
     "data": {
      "text/html": [
       "<div>\n",
       "<style scoped>\n",
       "    .dataframe tbody tr th:only-of-type {\n",
       "        vertical-align: middle;\n",
       "    }\n",
       "\n",
       "    .dataframe tbody tr th {\n",
       "        vertical-align: top;\n",
       "    }\n",
       "\n",
       "    .dataframe thead th {\n",
       "        text-align: right;\n",
       "    }\n",
       "</style>\n",
       "<table border=\"1\" class=\"dataframe\">\n",
       "  <thead>\n",
       "    <tr style=\"text-align: right;\">\n",
       "      <th></th>\n",
       "      <th>expediente</th>\n",
       "      <th>tipo_contrato</th>\n",
       "      <th>estado</th>\n",
       "      <th>importe</th>\n",
       "      <th>fechas</th>\n",
       "      <th>organo_contratacion</th>\n",
       "    </tr>\n",
       "  </thead>\n",
       "  <tbody>\n",
       "    <tr>\n",
       "      <th>0</th>\n",
       "      <td>211/2023/882Servicios de organización de la ca...</td>\n",
       "      <td>ServiciosServicios de esparcimiento, culturale...</td>\n",
       "      <td>Resuelta</td>\n",
       "      <td>21.659,40</td>\n",
       "      <td>Publicación PLACSP:Adjudicación:12/02/2024Form...</td>\n",
       "      <td>Junta de Gobierno del Ayuntamiento de A Coruña</td>\n",
       "    </tr>\n",
       "    <tr>\n",
       "      <th>1</th>\n",
       "      <td>A31/2022/115Servicio de Soporte y Mantenimient...</td>\n",
       "      <td>ServiciosServicios de mantenimiento y reparación</td>\n",
       "      <td>Resuelta</td>\n",
       "      <td>27.192,00</td>\n",
       "      <td>Publicación PLACSP:Adjudicación:10/01/2024Form...</td>\n",
       "      <td>Junta de Gobierno del Ayuntamiento de A Coruña</td>\n",
       "    </tr>\n",
       "    <tr>\n",
       "      <th>2</th>\n",
       "      <td>370/2024/26Concierto de una operación de prést...</td>\n",
       "      <td>Privado</td>\n",
       "      <td>Publicada</td>\n",
       "      <td>22.763.291,51</td>\n",
       "      <td>Present. Solicitud:16/02/2024Present. Oferta:1...</td>\n",
       "      <td>Junta de Gobierno del Ayuntamiento de A Coruña</td>\n",
       "    </tr>\n",
       "    <tr>\n",
       "      <th>3</th>\n",
       "      <td>236/2023/57Procedimiento abierto simplificado ...</td>\n",
       "      <td>ServiciosServicios de transporte por vía terre...</td>\n",
       "      <td>Resuelta</td>\n",
       "      <td>58.050,00</td>\n",
       "      <td>Publicación PLACSP:Adjudicación:11/01/2024Form...</td>\n",
       "      <td>Junta de Gobierno del Ayuntamiento de A Coruña</td>\n",
       "    </tr>\n",
       "    <tr>\n",
       "      <th>4</th>\n",
       "      <td>851/2023/103Contratación mixta de suministro e...</td>\n",
       "      <td>SuministrosAdquisición</td>\n",
       "      <td>Adjudicada</td>\n",
       "      <td>231.404,96</td>\n",
       "      <td>Publicación PLACSP:Adjudicación:29/01/2024</td>\n",
       "      <td>Junta de Gobierno del Ayuntamiento de A Coruña</td>\n",
       "    </tr>\n",
       "  </tbody>\n",
       "</table>\n",
       "</div>"
      ],
      "text/plain": [
       "                                          expediente  \\\n",
       "0  211/2023/882Servicios de organización de la ca...   \n",
       "1  A31/2022/115Servicio de Soporte y Mantenimient...   \n",
       "2  370/2024/26Concierto de una operación de prést...   \n",
       "3  236/2023/57Procedimiento abierto simplificado ...   \n",
       "4  851/2023/103Contratación mixta de suministro e...   \n",
       "\n",
       "                                       tipo_contrato      estado  \\\n",
       "0  ServiciosServicios de esparcimiento, culturale...    Resuelta   \n",
       "1   ServiciosServicios de mantenimiento y reparación    Resuelta   \n",
       "2                                            Privado   Publicada   \n",
       "3  ServiciosServicios de transporte por vía terre...    Resuelta   \n",
       "4                             SuministrosAdquisición  Adjudicada   \n",
       "\n",
       "         importe                                             fechas  \\\n",
       "0      21.659,40  Publicación PLACSP:Adjudicación:12/02/2024Form...   \n",
       "1      27.192,00  Publicación PLACSP:Adjudicación:10/01/2024Form...   \n",
       "2  22.763.291,51  Present. Solicitud:16/02/2024Present. Oferta:1...   \n",
       "3      58.050,00  Publicación PLACSP:Adjudicación:11/01/2024Form...   \n",
       "4     231.404,96         Publicación PLACSP:Adjudicación:29/01/2024   \n",
       "\n",
       "                              organo_contratacion  \n",
       "0  Junta de Gobierno del Ayuntamiento de A Coruña  \n",
       "1  Junta de Gobierno del Ayuntamiento de A Coruña  \n",
       "2  Junta de Gobierno del Ayuntamiento de A Coruña  \n",
       "3  Junta de Gobierno del Ayuntamiento de A Coruña  \n",
       "4  Junta de Gobierno del Ayuntamiento de A Coruña  "
      ]
     },
     "execution_count": 67,
     "metadata": {},
     "output_type": "execute_result"
    }
   ],
   "source": [
    "df.head()"
   ]
  },
  {
   "cell_type": "markdown",
   "metadata": {},
   "source": [
    "## Insertando datos a la base de datos"
   ]
  },
  {
   "cell_type": "code",
   "execution_count": null,
   "metadata": {},
   "outputs": [],
   "source": [
    "SQL_PREPARED_STATEMENT = \"\"\"\n",
    "INSERT INTO contratos(expediente, tipo_contrato, estado, importe, fechas, organo)\n",
    "VALUES (?,?,?,?,?,?)\n",
    "\"\"\"\n",
    "\n",
    "# Hacerlo con executemany()\n",
    "\n",
    "cursor.execute(\n",
    "    SQL_PREPARED_STATEMENT,\n",
    "    f'nome_{sufixo}', \n",
    "    f'apelidos_{sufixo}', \n",
    "    '12345678A')\n",
    "\n",
    "# Obtemos o id de resultado, para ver se todo está correcto\n",
    "id_resultado = cursor.fetchval()\n",
    "print(id_resultado)\n",
    "\n",
    "# Debemos confirmar cun commit a transacción:\n",
    "conexion.commit()\n",
    "# conexion.rollback()\n",
    "\n",
    "#Pechar o cursor e a conexión\n",
    "cursor.close()\n",
    "conexion.close()"
   ]
  }
 ],
 "metadata": {
  "kernelspec": {
   "display_name": "bigdata",
   "language": "python",
   "name": "python3"
  },
  "language_info": {
   "codemirror_mode": {
    "name": "ipython",
    "version": 3
   },
   "file_extension": ".py",
   "mimetype": "text/x-python",
   "name": "python",
   "nbconvert_exporter": "python",
   "pygments_lexer": "ipython3",
   "version": "3.8.18"
  }
 },
 "nbformat": 4,
 "nbformat_minor": 2
}
