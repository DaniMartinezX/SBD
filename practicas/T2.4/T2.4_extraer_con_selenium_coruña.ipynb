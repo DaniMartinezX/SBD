{
 "cells": [
  {
   "cell_type": "code",
   "execution_count": 16,
   "metadata": {},
   "outputs": [
    {
     "data": {
      "text/plain": [
       "'C:\\\\Users\\\\daniel.martinezcarre\\\\.wdm\\\\drivers\\\\geckodriver\\\\win64\\\\v0.34.0\\\\geckodriver.exe'"
      ]
     },
     "execution_count": 16,
     "metadata": {},
     "output_type": "execute_result"
    }
   ],
   "source": [
    "from webdriver_manager.firefox import GeckoDriverManager\n",
    "GeckoDriverManager().install()"
   ]
  },
  {
   "cell_type": "code",
   "execution_count": 64,
   "metadata": {},
   "outputs": [],
   "source": [
    "import argparse\n",
    "from enum import Enum\n",
    "import sys\n",
    "from selenium import webdriver\n",
    "from selenium.webdriver.common.by import By\n",
    "from selenium import webdriver\n",
    "from selenium.webdriver.common.keys import Keys\n",
    "from selenium.webdriver.support.ui import WebDriverWait\n",
    "from selenium.webdriver.support import expected_conditions as EC\n",
    "from selenium.webdriver.support.select import Select\n",
    "import time\n",
    "import random\n",
    "import pandas as pd\n"
   ]
  },
  {
   "cell_type": "code",
   "execution_count": 18,
   "metadata": {},
   "outputs": [],
   "source": [
    "def waitFinishLoad(driver,idLoader,needsDisapeared=False,by=By.ID,needsWait=False):\n",
    "    \"\"\"Espera a la carga de un elemento antes de continuar\n",
    "\n",
    "    Args:\n",
    "        driver (WebDriver): WebDriver\n",
    "        idLoader (str): Id a buscar, puede ser XPath...\n",
    "        needsDisapeared (bool, optional): Si el elemento a esperar tiene que aparecer o desaparecer como un CircularProgress. Defaults to False.\n",
    "        by (str, optional): Tipo de By a buscar el Wait. Defaults to By.ID.\n",
    "        needsWait (bool, optional): Si necesita esperar un extra para que no pueda saltar un Captcha. Defaults to False.\n",
    "    \"\"\"\n",
    "    if idLoader is None:\n",
    "        return\n",
    "    WebDriverWait(driver, timeout=10).until(EC.presence_of_element_located((by, idLoader)))\n",
    "    if needsDisapeared:\n",
    "        WebDriverWait(driver, timeout=10).until(EC.invisibility_of_element((by, idLoader)))\n",
    "    if needsWait:\n",
    "        time.sleep(random.choice([0.1,0.2,0.3,0.4,0.5,0.6]))\n",
    "    else:\n",
    "        time.sleep(random.choice([0.05,0.1,0.2]))\n",
    "\n",
    "def elementBy(query,driver,**kargs):\n",
    "    \"\"\"Devuelve un element|None dependiendo de la consulta\n",
    "\n",
    "    Args:\n",
    "        query (str): Busqueda a realizar del elemento\n",
    "        driver (WebDriver): WebDriver\n",
    "\n",
    "    Returns:\n",
    "        Element|None: Elemento de la búsqueda\n",
    "    \"\"\"\n",
    "    if not kargs.get(\"needsWait\",False):\n",
    "        waitFinishLoad(driver,kargs.get(\"idLoader\",None),by=kargs.get(\"by\",By.ID),needsWait=kargs.get(\"needsWait\",False))\n",
    "    try:\n",
    "        element=driver.find_element(kargs.get(\"byq\",By.XPATH),query)\n",
    "        if kargs.get(\"screenshot\"):\n",
    "            driver.execute_script(\"arguments[0].scrollIntoView();\", element)\n",
    "            screenshot(driver,kargs.get(\"screenshot\"))\n",
    "    except:\n",
    "        screenshot(driver,kargs.get(\"screenshot\"))\n",
    "        return None\n",
    "    waitFinishLoad(driver,kargs.get(\"idLoader\",None),by=kargs.get(\"by\",By.ID),needsWait=kargs.get(\"needsWait\",False))\n",
    "    return element\n",
    "\n",
    "\n",
    "def elementByClick(query,driver,**kargs):\n",
    "    \"\"\"Hace click en un elemento\n",
    "\n",
    "    Args:\n",
    "        query (str): Busqueda a realizar del elemento\n",
    "        driver (WebDriver): WebDriver\n",
    "    \"\"\"\n",
    "    if not kargs.get(\"needsWait\",False):\n",
    "        waitFinishLoad(driver,kargs.get(\"idLoader\",None),by=kargs.get(\"by\",By.ID),needsWait=kargs.get(\"needsWait\",False))\n",
    "    if kargs.get(\"screenshot\"):\n",
    "        screenshot(driver,kargs.get(\"screenshot\"))\n",
    "    element=driver.find_element(kargs.get(\"byq\",By.XPATH),query)\n",
    "    element.click()\n",
    "    waitFinishLoad(driver,kargs.get(\"idLoader\",None),by=kargs.get(\"by\",By.ID),needsWait=kargs.get(\"needsWait\",False))\n",
    "    return element\n",
    "\n",
    "\n",
    "def goToNextPage(driver):\n",
    "    element=elementBy(\"//input[@value='Siguiente']\",driver,idLoader=\"//table[@id='myTablaBusquedaCustom']\",by=By.XPATH)\n",
    "    driver.execute_script(\"arguments[0].scrollIntoView();\", element)\n",
    "    element.click()\n",
    "\n",
    "\n",
    "def checkEndPage(driver,**kargs):\n",
    "    \"\"\"Comprueba si es el final y no hay más siguiente devuelve un booleano\n",
    "\n",
    "    Args:\n",
    "        driver (WebDriver): WebDriver\n",
    "\n",
    "    Returns:\n",
    "        Bool: True si es el final o False si no es\n",
    "    \"\"\"\n",
    "    element=elementBy(\"//input[@value='Siguiente']\",driver,idLoader=\"//table[@id='myTablaBusquedaCustom']\",by=By.XPATH)\n",
    "    if kargs.get(\"screenshot\"):\n",
    "        if element:\n",
    "            driver.execute_script(\"arguments[0].scrollIntoView();\", element)\n",
    "        else:\n",
    "            driver.execute_script(\"arguments[0].scrollIntoView();\", elementBy(\"//input[@value='Último']\",driver))\n",
    "        screenshot(driver,kargs.get(\"screenshot\"))\n",
    "    if element:\n",
    "        return True\n",
    "    return False\n",
    "\n",
    "path = \"C:\\\\Users\\\\daniel.martinezcarre\\\\Desktop\\\\Repositorios\\\\sbd_repositorio\\\\SBD\\\\practicas\\\\T2.4\\\\capturas\"\n",
    "\n",
    "def screenshot(driver,filename):\n",
    "    \"\"\"Saca la captura de pantalla y lo guarda en la ruta Imagenes\n",
    "\n",
    "    Args:\n",
    "        driver (WebDriver): WebDriver\n",
    "        filename (str): Nombre de la captura de pantalla\n",
    "    \"\"\"\n",
    "    if filename:\n",
    "        driver.save_screenshot(path+filename)"
   ]
  },
  {
   "cell_type": "markdown",
   "metadata": {},
   "source": [
    "### Variables y funciones"
   ]
  },
  {
   "cell_type": "code",
   "execution_count": 19,
   "metadata": {},
   "outputs": [],
   "source": [
    "URL=\"https://contrataciondelestado.es/\""
   ]
  },
  {
   "cell_type": "code",
   "execution_count": 20,
   "metadata": {},
   "outputs": [],
   "source": [
    "def esperar_carga_pagina(driver, url):\n",
    "    \"\"\"\n",
    "    Espera a que la página web se cargue completamente.\n",
    "\n",
    "    Args:\n",
    "        driver: El objeto del navegador web.\n",
    "        url: La URL de la página web que se quiere cargar.\n",
    "    \"\"\"\n",
    "    # Carga la página web\n",
    "    driver.get(url)\n",
    "\n",
    "    # Espera a que la página se cargue completamente\n",
    "    wait = WebDriverWait(driver, 10)\n",
    "    wait.until(lambda driver: driver.execute_script(\"return document.readyState\") == \"complete\")\n",
    "\n",
    "\n",
    "def automatizaciones(driver):\n",
    "    \"\"\"\n",
    "    Ejecuta las automatizaciones en la página web con esperas.\n",
    "\n",
    "    Args:\n",
    "        driver: El objeto del navegador web.\n",
    "    \"\"\"\n",
    "\n",
    "    # Click en 'Publicaciones'\n",
    "    wait = WebDriverWait(driver, 10)\n",
    "    link = wait.until(EC.visibility_of_element_located((By.XPATH, \"//a[@href='/wps/portal/licitaciones']\")))\n",
    "    link.click()\n",
    "\n",
    "    # Click en 'Licitaciones'\n",
    "    wait = WebDriverWait(driver, 10)\n",
    "    link_licitaciones = wait.until(EC.presence_of_element_located((By.CLASS_NAME, \"divLogo\")))\n",
    "    link_licitaciones.click()\n",
    "\n",
    "    # Click en 'Búsqueda avanzada'\n",
    "    wait = WebDriverWait(driver, 10)\n",
    "    link_busqueda_avanzada = wait.until(EC.presence_of_element_located((By.ID, \"viewns_Z7_AVEQAI930OBRD02JPMTPG21004_:form1:textBusquedaAvanzada\")))\n",
    "    link_busqueda_avanzada.click()\n",
    "\n",
    "    # Click en 'Seleccionar'\n",
    "    wait = WebDriverWait(driver, 10)\n",
    "    link_busqueda_avanzada = wait.until(EC.presence_of_element_located((By.ID, \"viewns_Z7_AVEQAI930OBRD02JPMTPG21004_:form1:idSeleccionarOCLink\")))\n",
    "    link_busqueda_avanzada.click()\n",
    "\n",
    "    # Click en 'Entidades'\n",
    "    wait = WebDriverWait(driver, 10)\n",
    "    entidades = wait.until(EC.presence_of_element_located((By.XPATH, \"//div[text()='ENTIDADES LOCALES']/../../td[@class='multiline']\")))\n",
    "    entidades.click()\n",
    "\n",
    "    # Click en 'Galicia'\n",
    "    wait = WebDriverWait(driver, 10)\n",
    "    galicia = wait.until(EC.presence_of_all_elements_located((By.XPATH, \"//div[text()='Galicia']/../../td[@class='multiline']\")))\n",
    "    galicia[1].click()\n",
    "\n",
    "    # Click en 'A Coruña'\n",
    "    wait = WebDriverWait(driver, 10)\n",
    "    link_coruna_1 = wait.until(EC.presence_of_all_elements_located((By.XPATH, \"//div[text()='A Coruña']/../../td[@class='multiline']\")))\n",
    "    link_coruna_1[2].click()\n",
    "\n",
    "    # Click en 'Ayuntamientos'\n",
    "    wait = WebDriverWait(driver, 10)\n",
    "    link_junta = wait.until(EC.presence_of_all_elements_located((By.XPATH, \"//div[text()='Ayuntamientos']/../../td[@class='multiline']\")))\n",
    "    link_junta[3].click()\n",
    "\n",
    "    # Click en 'A Coruña' por 2ª vez\n",
    "    wait = WebDriverWait(driver, 10)\n",
    "    link_junta = wait.until(EC.presence_of_all_elements_located((By.XPATH, \"//div[text()='A Coruña']\")))\n",
    "    link_junta[1].click()\n",
    "\n",
    "    # Click en 'Junta de Gobierno del Ayuntamiento de A Coruña'\n",
    "    wait = WebDriverWait(driver, 10)\n",
    "    link_junta = wait.until(EC.presence_of_element_located((By.XPATH, \"//option[text()='Junta de Gobierno del Ayuntamiento de A Coruña']\")))\n",
    "    link_junta.click()\n",
    "\n",
    "    # Click en 'Añadir'\n",
    "    wait = WebDriverWait(driver, 10)\n",
    "    boton_anhadir = wait.until(EC.presence_of_element_located((By.XPATH, \"//input[@name='viewns_Z7_AVEQAI930OBRD02JPMTPG21004_:form1:botonAnadirMostrarPopUpArbolEO']\")))\n",
    "    boton_anhadir.click()\n",
    "\n",
    "    # Click en 'Buscar'\n",
    "    wait = WebDriverWait(driver, 10)\n",
    "    boton_buscar = wait.until(EC.presence_of_element_located((By.XPATH, \"//input[@title='Buscar']\")))\n",
    "    boton_buscar.click()\n"
   ]
  },
  {
   "cell_type": "markdown",
   "metadata": {},
   "source": [
    "### Carga de la URL y automatizaciones"
   ]
  },
  {
   "cell_type": "code",
   "execution_count": 22,
   "metadata": {},
   "outputs": [],
   "source": [
    "driver = webdriver.Firefox()\n",
    "esperar_carga_pagina(driver, URL)\n",
    "automatizaciones(driver)"
   ]
  },
  {
   "cell_type": "markdown",
   "metadata": {},
   "source": [
    "## Parseado de tabla e introducción de valores con BeautifulSoup4"
   ]
  },
  {
   "cell_type": "code",
   "execution_count": 12,
   "metadata": {},
   "outputs": [],
   "source": [
    "import requests\n",
    "from bs4 import BeautifulSoup\n",
    "import pprint"
   ]
  },
  {
   "cell_type": "code",
   "execution_count": 9,
   "metadata": {},
   "outputs": [],
   "source": [
    "body = driver.execute_script(\"return document.body\")\n",
    "page = body.get_attribute(\"innerHTML\")"
   ]
  },
  {
   "cell_type": "markdown",
   "metadata": {},
   "source": [
    "#### Parseo a HTML"
   ]
  },
  {
   "cell_type": "code",
   "execution_count": 10,
   "metadata": {},
   "outputs": [],
   "source": [
    "soup = BeautifulSoup(page, \"html.parser\")"
   ]
  },
  {
   "cell_type": "markdown",
   "metadata": {},
   "source": [
    "### Extracción de cabeceras"
   ]
  },
  {
   "cell_type": "code",
   "execution_count": 60,
   "metadata": {},
   "outputs": [
    {
     "name": "stdout",
     "output_type": "stream",
     "text": [
      "['Expediente', 'Tipo de Contrato', 'Estado', 'Importe', 'Fechas', 'Órgano de Contratación']\n"
     ]
    }
   ],
   "source": [
    "def sacar_cabeceras():\n",
    "    \"\"\"\n",
    "    Imprime las cabeceras de la tabla\n",
    "    \"\"\"\n",
    "    header = []\n",
    "    job_elements = soup.find('table', id=\"myTablaBusquedaCustom\")\n",
    "\n",
    "    for i, job_element in enumerate(job_elements.find_all('tr')):\n",
    "        if i != 0: break\n",
    "        else:\n",
    "            header = [el.text.strip() for el in job_element.find_all('th')]\n",
    "    print(header)\n",
    "sacar_cabeceras()"
   ]
  },
  {
   "cell_type": "code",
   "execution_count": 62,
   "metadata": {},
   "outputs": [],
   "source": [
    "def crearInforme():\n",
    "    \"\"\"\n",
    "    Retorna los datos de la tabla de una página\n",
    "    \"\"\"\n",
    "    rows = []\n",
    "    body = driver.execute_script(\"return document.body\")\n",
    "    source = body.get_attribute('innerHTML')\n",
    "    soup = BeautifulSoup(source, 'html.parser')\n",
    "    job_elements = soup.find('table', id=\"myTablaBusquedaCustom\")\n",
    "    for i, job_element in enumerate(job_elements.find_all('tr')):\n",
    "        if i>1:\n",
    "            row = []        \n",
    "            for el in job_element.find_all('td'):\n",
    "                row.append(el.text.strip())\n",
    "            rows.append(row)\n",
    "    return rows\n",
    "\n",
    "rows = crearInforme()"
   ]
  },
  {
   "cell_type": "code",
   "execution_count": 13,
   "metadata": {},
   "outputs": [],
   "source": [
    "from io import StringIO\n",
    "from bs4 import BeautifulSoup\n",
    "import pandas as pd\n",
    "\n",
    "\n",
    "dfT = pd.DataFrame([])\n",
    "i=0\n",
    "while(True):\n",
    "    waitFinishLoad(driver,by=By.XPATH,idLoader=\"//div/span[text()='Importe']\")\n",
    "    i+=1\n",
    "    soup=BeautifulSoup(driver.page_source,'html.parser')\n",
    "    df=pd.read_html(StringIO(str(soup.find(id=\"myTablaBusquedaCustom\"))))[0]\n",
    "    df=df[~df.iloc[:,0].str.startswith('Página')]\n",
    "    dfT=pd.concat([dfT,df])\n",
    "    \n",
    "    if not checkEndPage(driver,screenshot=f\"TablaNum{i}.png\"):\n",
    "        break\n",
    "    goToNextPage(driver)"
   ]
  },
  {
   "cell_type": "markdown",
   "metadata": {},
   "source": [
    "## SQL Server\n",
    "> docker run -e \"ACCEPT_EULA=Y\" -e \"MSSQL_SA_PASSWORD=Abcd1234.\" -e \"MSSQL_PID=Evaluation\" -p 41433:1433 --name sqlpreview --hostname sqlpreview -d mcr.microsoft.com/mssql/server:2022-preview-ubuntu-22.04"
   ]
  },
  {
   "cell_type": "markdown",
   "metadata": {},
   "source": [
    "La contraseña debe tener una mayúscula y 8 caracteres, debemos instalar **pyodbc** para manejar el SQL Server.<br>***conda install -c conda-forge -y pyodbc***"
   ]
  },
  {
   "cell_type": "markdown",
   "metadata": {},
   "source": [
    "### Instalación de driver necesario"
   ]
  },
  {
   "cell_type": "markdown",
   "metadata": {},
   "source": [
    "https://learn.microsoft.com/en-us/sql/connect/odbc/download-odbc-driver-for-sql-server?view=sql-server-ver16#download-for-windows"
   ]
  },
  {
   "cell_type": "code",
   "execution_count": 36,
   "metadata": {},
   "outputs": [],
   "source": [
    "import pyodbc"
   ]
  },
  {
   "cell_type": "code",
   "execution_count": 57,
   "metadata": {},
   "outputs": [],
   "source": [
    "DB_HOST = '10.133.29.229,41433'\n",
    "DB_NAME = 'datos_corunha'\n",
    "DB_USER = 'sa'\n",
    "DB_PASSWORD = 'Abcd1234.'"
   ]
  },
  {
   "cell_type": "markdown",
   "metadata": {},
   "source": [
    "### Establecemos conexión"
   ]
  },
  {
   "cell_type": "code",
   "execution_count": 58,
   "metadata": {},
   "outputs": [
    {
     "name": "stdout",
     "output_type": "stream",
     "text": [
      "DRIVER={ODBC Driver 18 for SQL Server};\n",
      "SERVER=10.133.29.229,41433;DATABASE=datos_corunha;\n",
      "UID=sa;PWD=Abcd1234.;\n",
      "Encrypt=Yes;TrustServerCertificate=Yes\n"
     ]
    }
   ],
   "source": [
    "connectionString = f'''DRIVER={{ODBC Driver 18 for SQL Server}};\n",
    "SERVER={DB_HOST};DATABASE={DB_NAME};\n",
    "UID={DB_USER};PWD={DB_PASSWORD};\n",
    "Encrypt=Yes;TrustServerCertificate=Yes'''\n",
    "\n",
    "print(connectionString)\n",
    "conexion = pyodbc.connect(connectionString)\n"
   ]
  },
  {
   "cell_type": "code",
   "execution_count": 61,
   "metadata": {},
   "outputs": [],
   "source": [
    "#Creamos un cursos para logo acceder aos resultados\n",
    "cursor = conexion.cursor()"
   ]
  },
  {
   "cell_type": "markdown",
   "metadata": {},
   "source": [
    "### Creación del dataframe de datos"
   ]
  },
  {
   "cell_type": "code",
   "execution_count": 66,
   "metadata": {},
   "outputs": [],
   "source": [
    "titulos = ['expediente', 'tipo_contrato', 'estado', 'importe', 'fechas', 'organo_contratacion']\n",
    "\n",
    "df = pd.DataFrame(rows, columns= titulos)"
   ]
  },
  {
   "cell_type": "code",
   "execution_count": 67,
   "metadata": {},
   "outputs": [
    {
     "data": {
      "text/html": [
       "<div>\n",
       "<style scoped>\n",
       "    .dataframe tbody tr th:only-of-type {\n",
       "        vertical-align: middle;\n",
       "    }\n",
       "\n",
       "    .dataframe tbody tr th {\n",
       "        vertical-align: top;\n",
       "    }\n",
       "\n",
       "    .dataframe thead th {\n",
       "        text-align: right;\n",
       "    }\n",
       "</style>\n",
       "<table border=\"1\" class=\"dataframe\">\n",
       "  <thead>\n",
       "    <tr style=\"text-align: right;\">\n",
       "      <th></th>\n",
       "      <th>expediente</th>\n",
       "      <th>tipo_contrato</th>\n",
       "      <th>estado</th>\n",
       "      <th>importe</th>\n",
       "      <th>fechas</th>\n",
       "      <th>organo_contratacion</th>\n",
       "    </tr>\n",
       "  </thead>\n",
       "  <tbody>\n",
       "    <tr>\n",
       "      <th>0</th>\n",
       "      <td>211/2023/882Servicios de organización de la ca...</td>\n",
       "      <td>ServiciosServicios de esparcimiento, culturale...</td>\n",
       "      <td>Resuelta</td>\n",
       "      <td>21.659,40</td>\n",
       "      <td>Publicación PLACSP:Adjudicación:12/02/2024Form...</td>\n",
       "      <td>Junta de Gobierno del Ayuntamiento de A Coruña</td>\n",
       "    </tr>\n",
       "    <tr>\n",
       "      <th>1</th>\n",
       "      <td>A31/2022/115Servicio de Soporte y Mantenimient...</td>\n",
       "      <td>ServiciosServicios de mantenimiento y reparación</td>\n",
       "      <td>Resuelta</td>\n",
       "      <td>27.192,00</td>\n",
       "      <td>Publicación PLACSP:Adjudicación:10/01/2024Form...</td>\n",
       "      <td>Junta de Gobierno del Ayuntamiento de A Coruña</td>\n",
       "    </tr>\n",
       "    <tr>\n",
       "      <th>2</th>\n",
       "      <td>370/2024/26Concierto de una operación de prést...</td>\n",
       "      <td>Privado</td>\n",
       "      <td>Publicada</td>\n",
       "      <td>22.763.291,51</td>\n",
       "      <td>Present. Solicitud:16/02/2024Present. Oferta:1...</td>\n",
       "      <td>Junta de Gobierno del Ayuntamiento de A Coruña</td>\n",
       "    </tr>\n",
       "    <tr>\n",
       "      <th>3</th>\n",
       "      <td>236/2023/57Procedimiento abierto simplificado ...</td>\n",
       "      <td>ServiciosServicios de transporte por vía terre...</td>\n",
       "      <td>Resuelta</td>\n",
       "      <td>58.050,00</td>\n",
       "      <td>Publicación PLACSP:Adjudicación:11/01/2024Form...</td>\n",
       "      <td>Junta de Gobierno del Ayuntamiento de A Coruña</td>\n",
       "    </tr>\n",
       "    <tr>\n",
       "      <th>4</th>\n",
       "      <td>851/2023/103Contratación mixta de suministro e...</td>\n",
       "      <td>SuministrosAdquisición</td>\n",
       "      <td>Adjudicada</td>\n",
       "      <td>231.404,96</td>\n",
       "      <td>Publicación PLACSP:Adjudicación:29/01/2024</td>\n",
       "      <td>Junta de Gobierno del Ayuntamiento de A Coruña</td>\n",
       "    </tr>\n",
       "  </tbody>\n",
       "</table>\n",
       "</div>"
      ],
      "text/plain": [
       "                                          expediente  \\\n",
       "0  211/2023/882Servicios de organización de la ca...   \n",
       "1  A31/2022/115Servicio de Soporte y Mantenimient...   \n",
       "2  370/2024/26Concierto de una operación de prést...   \n",
       "3  236/2023/57Procedimiento abierto simplificado ...   \n",
       "4  851/2023/103Contratación mixta de suministro e...   \n",
       "\n",
       "                                       tipo_contrato      estado  \\\n",
       "0  ServiciosServicios de esparcimiento, culturale...    Resuelta   \n",
       "1   ServiciosServicios de mantenimiento y reparación    Resuelta   \n",
       "2                                            Privado   Publicada   \n",
       "3  ServiciosServicios de transporte por vía terre...    Resuelta   \n",
       "4                             SuministrosAdquisición  Adjudicada   \n",
       "\n",
       "         importe                                             fechas  \\\n",
       "0      21.659,40  Publicación PLACSP:Adjudicación:12/02/2024Form...   \n",
       "1      27.192,00  Publicación PLACSP:Adjudicación:10/01/2024Form...   \n",
       "2  22.763.291,51  Present. Solicitud:16/02/2024Present. Oferta:1...   \n",
       "3      58.050,00  Publicación PLACSP:Adjudicación:11/01/2024Form...   \n",
       "4     231.404,96         Publicación PLACSP:Adjudicación:29/01/2024   \n",
       "\n",
       "                              organo_contratacion  \n",
       "0  Junta de Gobierno del Ayuntamiento de A Coruña  \n",
       "1  Junta de Gobierno del Ayuntamiento de A Coruña  \n",
       "2  Junta de Gobierno del Ayuntamiento de A Coruña  \n",
       "3  Junta de Gobierno del Ayuntamiento de A Coruña  \n",
       "4  Junta de Gobierno del Ayuntamiento de A Coruña  "
      ]
     },
     "execution_count": 67,
     "metadata": {},
     "output_type": "execute_result"
    }
   ],
   "source": [
    "df.head()"
   ]
  },
  {
   "cell_type": "markdown",
   "metadata": {},
   "source": [
    "## Insertando datos a la base de datos"
   ]
  },
  {
   "cell_type": "code",
   "execution_count": null,
   "metadata": {},
   "outputs": [],
   "source": [
    "SQL_PREPARED_STATEMENT = \"\"\"\n",
    "INSERT INTO contratos(expediente, tipo_contrato, estado, importe, fechas, organo)\n",
    "VALUES (?,?,?,?,?,?)\n",
    "\"\"\"\n",
    "\n",
    "# Hacerlo con executemany()\n",
    "\n",
    "cursor.execute(\n",
    "    SQL_PREPARED_STATEMENT,\n",
    "    f'nome_{sufixo}', \n",
    "    f'apelidos_{sufixo}', \n",
    "    '12345678A')\n",
    "\n",
    "# Obtemos o id de resultado, para ver se todo está correcto\n",
    "id_resultado = cursor.fetchval()\n",
    "print(id_resultado)\n",
    "\n",
    "# Debemos confirmar cun commit a transacción:\n",
    "conexion.commit()\n",
    "# conexion.rollback()\n",
    "\n",
    "#Pechar o cursor e a conexión\n",
    "cursor.close()\n",
    "conexion.close()"
   ]
  }
 ],
 "metadata": {
  "kernelspec": {
   "display_name": "bigdata",
   "language": "python",
   "name": "python3"
  },
  "language_info": {
   "codemirror_mode": {
    "name": "ipython",
    "version": 3
   },
   "file_extension": ".py",
   "mimetype": "text/x-python",
   "name": "python",
   "nbconvert_exporter": "python",
   "pygments_lexer": "ipython3",
   "version": "3.8.18"
  }
 },
 "nbformat": 4,
 "nbformat_minor": 2
}
