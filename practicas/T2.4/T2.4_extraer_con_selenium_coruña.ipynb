{
 "cells": [
  {
   "cell_type": "code",
   "execution_count": 13,
   "metadata": {},
   "outputs": [
    {
     "data": {
      "text/plain": [
       "'C:\\\\Users\\\\daniel.martinezcarre\\\\.wdm\\\\drivers\\\\geckodriver\\\\win64\\\\v0.34.0\\\\geckodriver.exe'"
      ]
     },
     "execution_count": 13,
     "metadata": {},
     "output_type": "execute_result"
    }
   ],
   "source": [
    "from webdriver_manager.firefox import GeckoDriverManager\n",
    "GeckoDriverManager().install()"
   ]
  },
  {
   "cell_type": "code",
   "execution_count": 14,
   "metadata": {},
   "outputs": [],
   "source": [
    "from selenium import webdriver\n",
    "from selenium.webdriver.common.by import By"
   ]
  },
  {
   "cell_type": "markdown",
   "metadata": {},
   "source": [
    "### Variables"
   ]
  },
  {
   "cell_type": "code",
   "execution_count": 15,
   "metadata": {},
   "outputs": [],
   "source": [
    "URL=\"https://contrataciondelestado.es/\""
   ]
  },
  {
   "cell_type": "code",
   "execution_count": 16,
   "metadata": {},
   "outputs": [],
   "source": [
    "driver = webdriver.Firefox()"
   ]
  },
  {
   "cell_type": "markdown",
   "metadata": {},
   "source": [
    "### Carga de la URL"
   ]
  },
  {
   "cell_type": "code",
   "execution_count": 17,
   "metadata": {},
   "outputs": [],
   "source": [
    "driver.get(URL)"
   ]
  },
  {
   "cell_type": "markdown",
   "metadata": {},
   "source": [
    "### Acceso a expedientes"
   ]
  },
  {
   "cell_type": "markdown",
   "metadata": {},
   "source": [
    "> Publicaciones"
   ]
  },
  {
   "cell_type": "code",
   "execution_count": 21,
   "metadata": {},
   "outputs": [],
   "source": [
    "link = driver.find_element(By.XPATH, \"//a[@href='/wps/portal/licitaciones']\")\n",
    "link.click()"
   ]
  },
  {
   "cell_type": "markdown",
   "metadata": {},
   "source": [
    "> Licitaciones"
   ]
  },
  {
   "cell_type": "code",
   "execution_count": 22,
   "metadata": {},
   "outputs": [],
   "source": [
    "link_licitaciones = driver.find_element(By.CLASS_NAME, \"divLogo\")\n",
    "link_licitaciones.click()"
   ]
  },
  {
   "cell_type": "markdown",
   "metadata": {},
   "source": [
    "> Búsqueda avanzada"
   ]
  },
  {
   "cell_type": "code",
   "execution_count": 23,
   "metadata": {},
   "outputs": [],
   "source": [
    "link_busqueda_avanzada = driver.find_element(By.ID, \"viewns_Z7_AVEQAI930OBRD02JPMTPG21004_:form1:textBusquedaAvanzada\")\n",
    "link_busqueda_avanzada.click()"
   ]
  },
  {
   "cell_type": "markdown",
   "metadata": {},
   "source": [
    "> Organización contratante → Seleccionar"
   ]
  },
  {
   "cell_type": "code",
   "execution_count": 24,
   "metadata": {},
   "outputs": [],
   "source": [
    "link_busqueda_avanzada = driver.find_element(By.ID, \"viewns_Z7_AVEQAI930OBRD02JPMTPG21004_:form1:idSeleccionarOCLink\")\n",
    "link_busqueda_avanzada.click()"
   ]
  },
  {
   "cell_type": "markdown",
   "metadata": {},
   "source": [
    "> Entidades locales → Galicia → Coruña → Ayuntamientos → A Coruña"
   ]
  },
  {
   "cell_type": "code",
   "execution_count": 77,
   "metadata": {},
   "outputs": [],
   "source": [
    "sds = driver.find_element(By.ID, \"tafelTree_maceoArbol_id_3\")\n",
    "sds.click()"
   ]
  },
  {
   "cell_type": "code",
   "execution_count": 72,
   "metadata": {},
   "outputs": [
    {
     "name": "stdout",
     "output_type": "stream",
     "text": [
      "89\n",
      "<selenium.webdriver.remote.webelement.WebElement (session=\"90e0da32-916c-4786-8117-c3de582d2881\", element=\"19ffe178-e21b-4b7e-a955-e0256878845b\")>\n",
      "\n",
      "<selenium.webdriver.remote.webelement.WebElement (session=\"90e0da32-916c-4786-8117-c3de582d2881\", element=\"b43888dd-c4ce-4abd-a373-194ac56043bd\")>\n",
      "\n",
      "<selenium.webdriver.remote.webelement.WebElement (session=\"90e0da32-916c-4786-8117-c3de582d2881\", element=\"d6217c74-1537-4483-9756-a12f0ad003db\")>\n",
      "\n",
      "<selenium.webdriver.remote.webelement.WebElement (session=\"90e0da32-916c-4786-8117-c3de582d2881\", element=\"26322e48-3a1c-44e6-a4f7-4df7c6cff999\")>\n",
      "\n",
      "<selenium.webdriver.remote.webelement.WebElement (session=\"90e0da32-916c-4786-8117-c3de582d2881\", element=\"0d0c8017-b860-4263-9a1f-057f06d2b128\")>\n",
      "\n",
      "<selenium.webdriver.remote.webelement.WebElement (session=\"90e0da32-916c-4786-8117-c3de582d2881\", element=\"2447c97d-771f-4fe7-8aca-909bd602cc97\")>\n",
      "\n",
      "<selenium.webdriver.remote.webelement.WebElement (session=\"90e0da32-916c-4786-8117-c3de582d2881\", element=\"e39166cd-80fc-4c0f-9fdb-4eca726621ad\")>\n",
      "\n",
      "<selenium.webdriver.remote.webelement.WebElement (session=\"90e0da32-916c-4786-8117-c3de582d2881\", element=\"0a4a77d7-712a-4423-8d34-18eb7b44740c\")>\n",
      "\n",
      "<selenium.webdriver.remote.webelement.WebElement (session=\"90e0da32-916c-4786-8117-c3de582d2881\", element=\"9e654dd7-fe83-413c-96bb-2c65be52f33c\")>\n",
      "\n",
      "<selenium.webdriver.remote.webelement.WebElement (session=\"90e0da32-916c-4786-8117-c3de582d2881\", element=\"c88be4c6-18b0-49ee-ac8c-7a0b0d85562b\")>\n",
      "\n",
      "<selenium.webdriver.remote.webelement.WebElement (session=\"90e0da32-916c-4786-8117-c3de582d2881\", element=\"a3bc47ec-ad3a-4298-ab61-6ff76d1b9517\")>\n",
      "\n",
      "<selenium.webdriver.remote.webelement.WebElement (session=\"90e0da32-916c-4786-8117-c3de582d2881\", element=\"72374f47-db11-4449-92dd-073920b9a813\")>\n",
      "\n",
      "<selenium.webdriver.remote.webelement.WebElement (session=\"90e0da32-916c-4786-8117-c3de582d2881\", element=\"3a6af726-2cd5-4631-a7aa-2381a9ae4ac7\")>\n",
      "\n",
      "<selenium.webdriver.remote.webelement.WebElement (session=\"90e0da32-916c-4786-8117-c3de582d2881\", element=\"fd4a9873-0146-4f19-9127-9578bc88d714\")>\n",
      "\n",
      "<selenium.webdriver.remote.webelement.WebElement (session=\"90e0da32-916c-4786-8117-c3de582d2881\", element=\"7c1c5645-85aa-4cc6-a630-efc7b6b45419\")>\n",
      "\n",
      "<selenium.webdriver.remote.webelement.WebElement (session=\"90e0da32-916c-4786-8117-c3de582d2881\", element=\"bb2d7763-7809-45a4-88ae-61b79e840012\")>\n",
      "\n",
      "<selenium.webdriver.remote.webelement.WebElement (session=\"90e0da32-916c-4786-8117-c3de582d2881\", element=\"6fa88ddf-2295-4acc-bb49-2192900d386f\")>\n",
      "\n",
      "<selenium.webdriver.remote.webelement.WebElement (session=\"90e0da32-916c-4786-8117-c3de582d2881\", element=\"c834110c-fd8e-48f4-9182-11f5d8f67273\")>\n",
      "\n",
      "<selenium.webdriver.remote.webelement.WebElement (session=\"90e0da32-916c-4786-8117-c3de582d2881\", element=\"d5a4fef5-f524-4566-b6cf-5612a43065ba\")>\n",
      "\n",
      "<selenium.webdriver.remote.webelement.WebElement (session=\"90e0da32-916c-4786-8117-c3de582d2881\", element=\"86aa8ea7-8357-4d6d-a2d5-75f9e6b67b6a\")>\n",
      "\n",
      "<selenium.webdriver.remote.webelement.WebElement (session=\"90e0da32-916c-4786-8117-c3de582d2881\", element=\"4bbf6c7d-c3a0-4176-b6ae-a2bb0c0c683b\")>\n",
      "\n",
      "<selenium.webdriver.remote.webelement.WebElement (session=\"90e0da32-916c-4786-8117-c3de582d2881\", element=\"1eadd4e8-6e48-4314-baba-86ad802d88cd\")>\n",
      "\n",
      "<selenium.webdriver.remote.webelement.WebElement (session=\"90e0da32-916c-4786-8117-c3de582d2881\", element=\"a3f8649b-bda5-4af8-bea0-d91074b607d6\")>\n",
      "\n",
      "<selenium.webdriver.remote.webelement.WebElement (session=\"90e0da32-916c-4786-8117-c3de582d2881\", element=\"b680d243-2a79-459f-bfac-edf719202974\")>\n",
      "\n",
      "<selenium.webdriver.remote.webelement.WebElement (session=\"90e0da32-916c-4786-8117-c3de582d2881\", element=\"8c666345-4f34-44e3-b113-8bff9bdb5401\")>\n",
      "\n",
      "<selenium.webdriver.remote.webelement.WebElement (session=\"90e0da32-916c-4786-8117-c3de582d2881\", element=\"50587320-6408-462a-94e2-fc1700a36b90\")>\n",
      "\n",
      "<selenium.webdriver.remote.webelement.WebElement (session=\"90e0da32-916c-4786-8117-c3de582d2881\", element=\"80946cd1-c575-4353-8e2b-5909b5baa68d\")>\n",
      "\n",
      "<selenium.webdriver.remote.webelement.WebElement (session=\"90e0da32-916c-4786-8117-c3de582d2881\", element=\"5b48a91c-118c-409e-b5e3-46c667251630\")>\n",
      "\n",
      "<selenium.webdriver.remote.webelement.WebElement (session=\"90e0da32-916c-4786-8117-c3de582d2881\", element=\"15f5c78d-1217-4994-90c2-e390643aae31\")>\n",
      "\n",
      "<selenium.webdriver.remote.webelement.WebElement (session=\"90e0da32-916c-4786-8117-c3de582d2881\", element=\"7e4a2c27-2653-4dbf-9c93-cf299040bb56\")>\n",
      "\n",
      "<selenium.webdriver.remote.webelement.WebElement (session=\"90e0da32-916c-4786-8117-c3de582d2881\", element=\"7c78c0be-cb9d-4840-9aca-7868ed475c96\")>\n",
      "\n",
      "<selenium.webdriver.remote.webelement.WebElement (session=\"90e0da32-916c-4786-8117-c3de582d2881\", element=\"9746310a-99e7-4e46-be92-6e48ef70a4bd\")>\n",
      "\n",
      "<selenium.webdriver.remote.webelement.WebElement (session=\"90e0da32-916c-4786-8117-c3de582d2881\", element=\"9778f9d0-9a2c-4c32-bc36-99e89b9e68db\")>\n",
      "\n",
      "<selenium.webdriver.remote.webelement.WebElement (session=\"90e0da32-916c-4786-8117-c3de582d2881\", element=\"0a69ddd2-505d-4b01-82e7-3af8cf9ca518\")>\n",
      "\n",
      "<selenium.webdriver.remote.webelement.WebElement (session=\"90e0da32-916c-4786-8117-c3de582d2881\", element=\"b8bcbc65-97a9-4972-8554-4af957a38c22\")>\n",
      "\n",
      "<selenium.webdriver.remote.webelement.WebElement (session=\"90e0da32-916c-4786-8117-c3de582d2881\", element=\"61abd581-dc69-48cd-972a-88512123dc3b\")>\n",
      "\n",
      "<selenium.webdriver.remote.webelement.WebElement (session=\"90e0da32-916c-4786-8117-c3de582d2881\", element=\"e688fc32-1bfc-4a28-8ef0-f109e5aed9dc\")>\n",
      "\n",
      "<selenium.webdriver.remote.webelement.WebElement (session=\"90e0da32-916c-4786-8117-c3de582d2881\", element=\"a359eb88-075f-4626-85ee-2126b860f6d9\")>\n",
      "\n",
      "<selenium.webdriver.remote.webelement.WebElement (session=\"90e0da32-916c-4786-8117-c3de582d2881\", element=\"ccc9da75-66f3-4d7e-a24f-edb343b30a4f\")>\n",
      "\n",
      "<selenium.webdriver.remote.webelement.WebElement (session=\"90e0da32-916c-4786-8117-c3de582d2881\", element=\"00dcf628-2a03-4a1f-b185-42a0c6e070ca\")>\n",
      "\n",
      "<selenium.webdriver.remote.webelement.WebElement (session=\"90e0da32-916c-4786-8117-c3de582d2881\", element=\"b53cc879-8c76-4678-98f9-d9c3eeb277b5\")>\n",
      "\n",
      "<selenium.webdriver.remote.webelement.WebElement (session=\"90e0da32-916c-4786-8117-c3de582d2881\", element=\"fa067de6-f024-4645-97dc-348b59e726cf\")>\n",
      "\n",
      "<selenium.webdriver.remote.webelement.WebElement (session=\"90e0da32-916c-4786-8117-c3de582d2881\", element=\"502fd39c-4b66-4e95-9c27-097ec0b375e5\")>\n",
      "\n",
      "<selenium.webdriver.remote.webelement.WebElement (session=\"90e0da32-916c-4786-8117-c3de582d2881\", element=\"2b2202af-a736-4c67-8836-317d444e65ee\")>\n",
      "\n",
      "<selenium.webdriver.remote.webelement.WebElement (session=\"90e0da32-916c-4786-8117-c3de582d2881\", element=\"cba8c42b-d877-420a-95a3-9720b308d7c1\")>\n",
      "\n",
      "<selenium.webdriver.remote.webelement.WebElement (session=\"90e0da32-916c-4786-8117-c3de582d2881\", element=\"d48e21cc-fbed-49be-b5b6-89f829639d9e\")>\n",
      "\n",
      "<selenium.webdriver.remote.webelement.WebElement (session=\"90e0da32-916c-4786-8117-c3de582d2881\", element=\"5a0b5b40-18f3-466b-8d65-7232769c1c4f\")>\n",
      "\n",
      "<selenium.webdriver.remote.webelement.WebElement (session=\"90e0da32-916c-4786-8117-c3de582d2881\", element=\"95884b5c-549e-4123-a0f9-a6e4628e6b1a\")>\n",
      "\n",
      "<selenium.webdriver.remote.webelement.WebElement (session=\"90e0da32-916c-4786-8117-c3de582d2881\", element=\"ec7640cc-5b92-4934-ba56-75f9266c4bc8\")>\n",
      "\n",
      "<selenium.webdriver.remote.webelement.WebElement (session=\"90e0da32-916c-4786-8117-c3de582d2881\", element=\"483879d0-a4ad-4ae2-8706-848594198e5e\")>\n",
      "\n",
      "<selenium.webdriver.remote.webelement.WebElement (session=\"90e0da32-916c-4786-8117-c3de582d2881\", element=\"4703dca0-63ed-44dc-8ceb-1906f7a10b78\")>\n",
      "\n",
      "<selenium.webdriver.remote.webelement.WebElement (session=\"90e0da32-916c-4786-8117-c3de582d2881\", element=\"bc6287c2-4bce-4a4f-a530-34e44c718420\")>\n",
      "\n",
      "<selenium.webdriver.remote.webelement.WebElement (session=\"90e0da32-916c-4786-8117-c3de582d2881\", element=\"a5a4fdb6-fc73-4e1a-bf18-f19ed26ae76d\")>\n",
      "\n",
      "<selenium.webdriver.remote.webelement.WebElement (session=\"90e0da32-916c-4786-8117-c3de582d2881\", element=\"8abafe73-b3ee-460a-830e-b7bdc8fc920d\")>\n",
      "\n",
      "<selenium.webdriver.remote.webelement.WebElement (session=\"90e0da32-916c-4786-8117-c3de582d2881\", element=\"e699f999-1c0b-4d2d-9bc1-70744088d67f\")>\n",
      "\n",
      "<selenium.webdriver.remote.webelement.WebElement (session=\"90e0da32-916c-4786-8117-c3de582d2881\", element=\"ee9acab5-a9e4-43a8-9c0c-516e66e937d2\")>\n",
      "\n",
      "<selenium.webdriver.remote.webelement.WebElement (session=\"90e0da32-916c-4786-8117-c3de582d2881\", element=\"306fc950-7778-4b98-965d-7c8991a52e69\")>\n",
      "\n",
      "<selenium.webdriver.remote.webelement.WebElement (session=\"90e0da32-916c-4786-8117-c3de582d2881\", element=\"70c035dd-60f1-44d8-909a-fe88df5ec722\")>\n",
      "\n",
      "<selenium.webdriver.remote.webelement.WebElement (session=\"90e0da32-916c-4786-8117-c3de582d2881\", element=\"c2ecc7a4-1f01-4504-bc85-ec765bf0ec0c\")>\n",
      "\n",
      "<selenium.webdriver.remote.webelement.WebElement (session=\"90e0da32-916c-4786-8117-c3de582d2881\", element=\"3619d489-cd56-4091-88b3-02fa8ff38624\")>\n",
      "\n",
      "<selenium.webdriver.remote.webelement.WebElement (session=\"90e0da32-916c-4786-8117-c3de582d2881\", element=\"a48113b0-3252-448a-81f6-fabb7f3825c8\")>\n",
      "\n",
      "<selenium.webdriver.remote.webelement.WebElement (session=\"90e0da32-916c-4786-8117-c3de582d2881\", element=\"890dc15a-34f0-4f5a-a728-e6810020e21b\")>\n",
      "\n",
      "<selenium.webdriver.remote.webelement.WebElement (session=\"90e0da32-916c-4786-8117-c3de582d2881\", element=\"886c876c-15d6-4b31-a9e2-656ab1630f38\")>\n",
      "\n",
      "<selenium.webdriver.remote.webelement.WebElement (session=\"90e0da32-916c-4786-8117-c3de582d2881\", element=\"f3592d4e-4a59-4d35-ba5c-833a645a56ec\")>\n",
      "\n",
      "<selenium.webdriver.remote.webelement.WebElement (session=\"90e0da32-916c-4786-8117-c3de582d2881\", element=\"bc3dfcf3-9b9e-4cba-ba03-acc5fc972ae0\")>\n",
      "\n",
      "<selenium.webdriver.remote.webelement.WebElement (session=\"90e0da32-916c-4786-8117-c3de582d2881\", element=\"4126e48a-f016-4285-8a4c-adcf72603f3a\")>\n",
      "\n",
      "<selenium.webdriver.remote.webelement.WebElement (session=\"90e0da32-916c-4786-8117-c3de582d2881\", element=\"0d814c5e-a1f6-4329-b5b6-f2526db90f62\")>\n",
      "\n",
      "<selenium.webdriver.remote.webelement.WebElement (session=\"90e0da32-916c-4786-8117-c3de582d2881\", element=\"30c868f6-532f-4e42-91c4-33376f907c23\")>\n",
      "\n",
      "<selenium.webdriver.remote.webelement.WebElement (session=\"90e0da32-916c-4786-8117-c3de582d2881\", element=\"a9155d1c-295c-4bb7-b28d-ce55e6221791\")>\n",
      "\n",
      "<selenium.webdriver.remote.webelement.WebElement (session=\"90e0da32-916c-4786-8117-c3de582d2881\", element=\"e259d3d7-15cd-459e-8b41-442e3d6dd0af\")>\n",
      "\n",
      "<selenium.webdriver.remote.webelement.WebElement (session=\"90e0da32-916c-4786-8117-c3de582d2881\", element=\"642cb674-2a42-4dd1-a8cd-b8f7b5a4c7d1\")>\n",
      "\n",
      "<selenium.webdriver.remote.webelement.WebElement (session=\"90e0da32-916c-4786-8117-c3de582d2881\", element=\"0c8933b7-aa08-46a4-b040-8f180e8ea214\")>\n",
      "\n",
      "<selenium.webdriver.remote.webelement.WebElement (session=\"90e0da32-916c-4786-8117-c3de582d2881\", element=\"d75dddf8-d6eb-47c7-bc96-caa11bcdd24b\")>\n",
      "\n",
      "<selenium.webdriver.remote.webelement.WebElement (session=\"90e0da32-916c-4786-8117-c3de582d2881\", element=\"477b33d3-da81-4d52-9e3f-a296b1a79d63\")>\n",
      "\n",
      "<selenium.webdriver.remote.webelement.WebElement (session=\"90e0da32-916c-4786-8117-c3de582d2881\", element=\"cf2ac986-4409-4f54-b713-08786d05af4e\")>\n",
      "\n",
      "<selenium.webdriver.remote.webelement.WebElement (session=\"90e0da32-916c-4786-8117-c3de582d2881\", element=\"4e7c9b75-5b80-4ac2-aabb-362ac6251914\")>\n",
      "\n",
      "<selenium.webdriver.remote.webelement.WebElement (session=\"90e0da32-916c-4786-8117-c3de582d2881\", element=\"bf035cd8-a95a-48da-b391-f8a7d04fb7d8\")>\n",
      "\n",
      "<selenium.webdriver.remote.webelement.WebElement (session=\"90e0da32-916c-4786-8117-c3de582d2881\", element=\"44e9afdd-acda-4752-ac06-5a3cab18e774\")>\n",
      "\n",
      "<selenium.webdriver.remote.webelement.WebElement (session=\"90e0da32-916c-4786-8117-c3de582d2881\", element=\"0b77af1f-bb91-4cfd-ab54-840822627c2e\")>\n",
      "\n",
      "<selenium.webdriver.remote.webelement.WebElement (session=\"90e0da32-916c-4786-8117-c3de582d2881\", element=\"2db5d2eb-1f2d-44f9-9cfa-377e59e8e9d2\")>\n",
      "\n",
      "<selenium.webdriver.remote.webelement.WebElement (session=\"90e0da32-916c-4786-8117-c3de582d2881\", element=\"a9615263-8e9b-4fd7-8b2c-0a87804993c0\")>\n",
      "\n",
      "<selenium.webdriver.remote.webelement.WebElement (session=\"90e0da32-916c-4786-8117-c3de582d2881\", element=\"3ec89543-4486-4fe9-a34f-61484114d39d\")>\n",
      "\n",
      "<selenium.webdriver.remote.webelement.WebElement (session=\"90e0da32-916c-4786-8117-c3de582d2881\", element=\"13a55443-ca3c-4fad-a93d-39ad6a07d723\")>\n",
      "\n",
      "<selenium.webdriver.remote.webelement.WebElement (session=\"90e0da32-916c-4786-8117-c3de582d2881\", element=\"02c83f21-dbdc-4bad-bab6-e944b8de6129\")>\n",
      "\n",
      "<selenium.webdriver.remote.webelement.WebElement (session=\"90e0da32-916c-4786-8117-c3de582d2881\", element=\"4366af08-ff57-4ccc-95a6-e978ca1f6ab7\")>\n",
      "\n",
      "<selenium.webdriver.remote.webelement.WebElement (session=\"90e0da32-916c-4786-8117-c3de582d2881\", element=\"b276f133-c11c-40d6-b2b6-709982726923\")>\n",
      "\n",
      "<selenium.webdriver.remote.webelement.WebElement (session=\"90e0da32-916c-4786-8117-c3de582d2881\", element=\"4538fbc5-bcef-45ef-bd26-a2f525048aa3\")>\n",
      "\n",
      "<selenium.webdriver.remote.webelement.WebElement (session=\"90e0da32-916c-4786-8117-c3de582d2881\", element=\"44a61356-4037-47ec-8c07-9c796636bf03\")>\n",
      "\n",
      "<selenium.webdriver.remote.webelement.WebElement (session=\"90e0da32-916c-4786-8117-c3de582d2881\", element=\"be5ceae2-5c5e-4625-9da7-c714a29b2912\")>\n",
      "\n"
     ]
    }
   ],
   "source": [
    "main_div = driver.find_element(By.CSS_SELECTOR, \"div.tafelTree_root\")\n",
    "\n",
    "div_rows = main_div.find_elements(By.CSS_SELECTOR, \"div.tafelTree_row\")\n",
    "\n",
    "print(len(div_rows))\n",
    "for i in div_rows:\n",
    "    print(f\"{i}\\n\")\n",
    "\n",
    "# for i, div_row in enumerate(div_rows):\n",
    "    # if i == 2:\n",
    "        # img_element = div_row.find_element(By.CSS_SELECTOR, \"img.tafelTreeopenable\")\n",
    "# \n",
    "        # img_element.click()\n",
    "        # break"
   ]
  }
 ],
 "metadata": {
  "kernelspec": {
   "display_name": "bigdata",
   "language": "python",
   "name": "python3"
  },
  "language_info": {
   "codemirror_mode": {
    "name": "ipython",
    "version": 3
   },
   "file_extension": ".py",
   "mimetype": "text/x-python",
   "name": "python",
   "nbconvert_exporter": "python",
   "pygments_lexer": "ipython3",
   "version": "3.8.18"
  }
 },
 "nbformat": 4,
 "nbformat_minor": 2
}
