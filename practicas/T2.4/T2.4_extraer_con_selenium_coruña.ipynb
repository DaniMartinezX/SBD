{
 "cells": [
  {
   "cell_type": "code",
   "execution_count": 1,
   "metadata": {},
   "outputs": [
    {
     "data": {
      "text/plain": [
       "'C:\\\\Users\\\\danid\\\\.wdm\\\\drivers\\\\geckodriver\\\\win64\\\\v0.34.0\\\\geckodriver.exe'"
      ]
     },
     "execution_count": 1,
     "metadata": {},
     "output_type": "execute_result"
    }
   ],
   "source": [
    "from webdriver_manager.firefox import GeckoDriverManager\n",
    "GeckoDriverManager().install()"
   ]
  },
  {
   "cell_type": "code",
   "execution_count": 2,
   "metadata": {},
   "outputs": [],
   "source": [
    "import argparse\n",
    "from enum import Enum\n",
    "import sys\n",
    "from selenium import webdriver\n",
    "from selenium.webdriver.common.by import By\n",
    "from selenium import webdriver\n",
    "from selenium.webdriver.common.keys import Keys\n",
    "from selenium.webdriver.support.ui import WebDriverWait\n",
    "from selenium.webdriver.support import expected_conditions as EC\n",
    "from selenium.webdriver.support.select import Select\n",
    "import time\n",
    "import random\n"
   ]
  },
  {
   "cell_type": "code",
   "execution_count": 3,
   "metadata": {},
   "outputs": [],
   "source": [
    "def waitFinishLoad(driver,idLoader,needsDisapeared=False,by=By.ID,needsWait=False):\n",
    "    \"\"\"Espera a la carga de un elemento antes de continuar\n",
    "\n",
    "    Args:\n",
    "        driver (WebDriver): WebDriver\n",
    "        idLoader (str): Id a buscar, puede ser XPath...\n",
    "        needsDisapeared (bool, optional): Si el elemento a esperar tiene que aparecer o desaparecer como un CircularProgress. Defaults to False.\n",
    "        by (str, optional): Tipo de By a buscar el Wait. Defaults to By.ID.\n",
    "        needsWait (bool, optional): Si necesita esperar un extra para que no pueda saltar un Captcha. Defaults to False.\n",
    "    \"\"\"\n",
    "    if idLoader is None:\n",
    "        return\n",
    "    WebDriverWait(driver, timeout=10).until(EC.presence_of_element_located((by, idLoader)))\n",
    "    if needsDisapeared:\n",
    "        WebDriverWait(driver, timeout=10).until(EC.invisibility_of_element((by, idLoader)))\n",
    "    if needsWait:\n",
    "        time.sleep(random.choice([0.1,0.2,0.3,0.4,0.5,0.6]))\n",
    "    else:\n",
    "        time.sleep(random.choice([0.05,0.1,0.2]))\n",
    "\n",
    "def elementBy(query,driver,**kargs):\n",
    "    \"\"\"Devuelve un element|None dependiendo de la consulta\n",
    "\n",
    "    Args:\n",
    "        query (str): Busqueda a realizar del elemento\n",
    "        driver (WebDriver): WebDriver\n",
    "\n",
    "    Returns:\n",
    "        Element|None: Elemento de la búsqueda\n",
    "    \"\"\"\n",
    "    if not kargs.get(\"needsWait\",False):\n",
    "        waitFinishLoad(driver,kargs.get(\"idLoader\",None),by=kargs.get(\"by\",By.ID),needsWait=kargs.get(\"needsWait\",False))\n",
    "    try:\n",
    "        element=driver.find_element(kargs.get(\"byq\",By.XPATH),query)\n",
    "        if kargs.get(\"screenshot\"):\n",
    "            driver.execute_script(\"arguments[0].scrollIntoView();\", element)\n",
    "            screenshot(driver,kargs.get(\"screenshot\"))\n",
    "    except:\n",
    "        screenshot(driver,kargs.get(\"screenshot\"))\n",
    "        return None\n",
    "    waitFinishLoad(driver,kargs.get(\"idLoader\",None),by=kargs.get(\"by\",By.ID),needsWait=kargs.get(\"needsWait\",False))\n",
    "    return element\n",
    "\n",
    "\n",
    "def elementByClick(query,driver,**kargs):\n",
    "    \"\"\"Hace click en un elemento\n",
    "\n",
    "    Args:\n",
    "        query (str): Busqueda a realizar del elemento\n",
    "        driver (WebDriver): WebDriver\n",
    "    \"\"\"\n",
    "    if not kargs.get(\"needsWait\",False):\n",
    "        waitFinishLoad(driver,kargs.get(\"idLoader\",None),by=kargs.get(\"by\",By.ID),needsWait=kargs.get(\"needsWait\",False))\n",
    "    if kargs.get(\"screenshot\"):\n",
    "        screenshot(driver,kargs.get(\"screenshot\"))\n",
    "    element=driver.find_element(kargs.get(\"byq\",By.XPATH),query)\n",
    "    element.click()\n",
    "    waitFinishLoad(driver,kargs.get(\"idLoader\",None),by=kargs.get(\"by\",By.ID),needsWait=kargs.get(\"needsWait\",False))\n",
    "    return element\n",
    "\n",
    "\n",
    "def elementsBy(query,driver,**kargs):\n",
    "    \"\"\"Devuelve una lista de elements dependiendo de la consulta\n",
    "\n",
    "    Args:\n",
    "        query (str): Busqueda a realizar del elemento\n",
    "        driver (WebDriver): WebDriver\n",
    "\n",
    "    Returns:\n",
    "        List<Element>: Lista de elementos\n",
    "    \"\"\"\n",
    "    if not kargs.get(\"needsWait\",False):\n",
    "        waitFinishLoad(driver,kargs.get(\"idLoader\",None),by=kargs.get(\"by\",By.ID),needsWait=kargs.get(\"needsWait\",False))\n",
    "    element=driver.find_elements(kargs.get(\"byq\",By.XPATH),query)\n",
    "    waitFinishLoad(driver,kargs.get(\"idLoader\",None),by=kargs.get(\"by\",By.ID),needsWait=kargs.get(\"needsWait\",False))\n",
    "    return element\n",
    "\n",
    "\n",
    "def clickEvent(driver,element):\n",
    "    \"\"\"Click en un elemento que funciona con evento\n",
    "\n",
    "    Args:\n",
    "        driver (WebDriver): WebDriver\n",
    "        element (Element): Elemento que tiene el evento\n",
    "    \"\"\"\n",
    "    driver.execute_script(element.get_dom_attribute(\"onClick\"))\n",
    "\n",
    "\n",
    "def goToNextPage(driver):\n",
    "    \"\"\"Cambia de página en la pantalla de siguiente\n",
    "\n",
    "    Args:\n",
    "        driver (WebDriver): WebDriver\n",
    "    \"\"\"\n",
    "    element=elementBy(\"//input[@value='Siguiente']\",driver,idLoader=\"//table[@id='myTablaBusquedaCustom']\",by=By.XPATH)\n",
    "    driver.execute_script(\"arguments[0].scrollIntoView();\", element)\n",
    "    element.click()\n",
    "\n",
    "\n",
    "def checkEndPage(driver,**kargs):\n",
    "    \"\"\"Comprueba si es el final y no hay más siguiente devuelve un booleano\n",
    "\n",
    "    Args:\n",
    "        driver (WebDriver): WebDriver\n",
    "\n",
    "    Returns:\n",
    "        Bool: True si es el final o False si no es\n",
    "    \"\"\"\n",
    "    element=elementBy(\"//input[@value='Siguiente']\",driver,idLoader=\"//table[@id='myTablaBusquedaCustom']\",by=By.XPATH)\n",
    "    if kargs.get(\"screenshot\"):\n",
    "        if element:\n",
    "            driver.execute_script(\"arguments[0].scrollIntoView();\", element)\n",
    "        else:\n",
    "            driver.execute_script(\"arguments[0].scrollIntoView();\", elementBy(\"//input[@value='Último']\",driver))\n",
    "        screenshot(driver,kargs.get(\"screenshot\"))\n",
    "    if element:\n",
    "        return True\n",
    "    return False\n",
    "\n",
    "path = \"C:\\\\Users\\\\danid\\\\OneDrive\\\\Escritorio\\\\IA y BigData\\\\Repositorios\\\\repo_BigData\\\\SBD\\\\SBD\\\\practicas\\\\T2.4\\\\capturas\"\n",
    "\n",
    "def screenshot(driver,filename):\n",
    "    \"\"\"Saca la captura de pantalla y lo guarda en la ruta Imagenes\n",
    "\n",
    "    Args:\n",
    "        driver (WebDriver): WebDriver\n",
    "        filename (str): Nombre de la captura de pantalla\n",
    "    \"\"\"\n",
    "    if filename:\n",
    "        driver.save_screenshot(path+filename)"
   ]
  },
  {
   "cell_type": "markdown",
   "metadata": {},
   "source": [
    "### Variables y funciones"
   ]
  },
  {
   "cell_type": "code",
   "execution_count": 4,
   "metadata": {},
   "outputs": [],
   "source": [
    "URL=\"https://contrataciondelestado.es/\""
   ]
  },
  {
   "cell_type": "code",
   "execution_count": 5,
   "metadata": {},
   "outputs": [],
   "source": [
    "def esperar_carga_pagina(driver, url):\n",
    "    \"\"\"\n",
    "    Espera a que la página web se cargue completamente.\n",
    "\n",
    "    Args:\n",
    "        driver: El objeto del navegador web.\n",
    "        url: La URL de la página web que se quiere cargar.\n",
    "    \"\"\"\n",
    "    # Carga la página web\n",
    "    driver.get(url)\n",
    "\n",
    "    # Espera a que la página se cargue completamente\n",
    "    wait = WebDriverWait(driver, 10)\n",
    "    wait.until(lambda driver: driver.execute_script(\"return document.readyState\") == \"complete\")\n",
    "\n",
    "\n",
    "def automatizaciones(driver):\n",
    "    \"\"\"\n",
    "    Ejecuta las automatizaciones en la página web con esperas.\n",
    "\n",
    "    Args:\n",
    "        driver: El objeto del navegador web.\n",
    "    \"\"\"\n",
    "\n",
    "    # Click en 'Publicaciones'\n",
    "    wait = WebDriverWait(driver, 10)\n",
    "    link = wait.until(EC.visibility_of_element_located((By.XPATH, \"//a[@href='/wps/portal/licitaciones']\")))\n",
    "    link.click()\n",
    "\n",
    "    # Click en 'Licitaciones'\n",
    "    wait = WebDriverWait(driver, 10)\n",
    "    link_licitaciones = wait.until(EC.presence_of_element_located((By.CLASS_NAME, \"divLogo\")))\n",
    "    link_licitaciones.click()\n",
    "\n",
    "    # Click en 'Búsqueda avanzada'\n",
    "    wait = WebDriverWait(driver, 10)\n",
    "    link_busqueda_avanzada = wait.until(EC.presence_of_element_located((By.ID, \"viewns_Z7_AVEQAI930OBRD02JPMTPG21004_:form1:textBusquedaAvanzada\")))\n",
    "    link_busqueda_avanzada.click()\n",
    "\n",
    "    # Click en 'Seleccionar'\n",
    "    wait = WebDriverWait(driver, 10)\n",
    "    link_busqueda_avanzada = wait.until(EC.presence_of_element_located((By.ID, \"viewns_Z7_AVEQAI930OBRD02JPMTPG21004_:form1:idSeleccionarOCLink\")))\n",
    "    link_busqueda_avanzada.click()\n",
    "\n",
    "    # Click en 'Entidades'\n",
    "    wait = WebDriverWait(driver, 10)\n",
    "    entidades = wait.until(EC.presence_of_element_located((By.XPATH, \"//div[text()='ENTIDADES LOCALES']/../../td[@class='multiline']\")))\n",
    "    entidades.click()\n",
    "\n",
    "    # Click en 'Galicia'\n",
    "    wait = WebDriverWait(driver, 10)\n",
    "    galicia = wait.until(EC.presence_of_all_elements_located((By.XPATH, \"//div[text()='Galicia']/../../td[@class='multiline']\")))\n",
    "    galicia[1].click()\n",
    "\n",
    "    # Click en 'A Coruña'\n",
    "    wait = WebDriverWait(driver, 10)\n",
    "    link_coruna_1 = wait.until(EC.presence_of_all_elements_located((By.XPATH, \"//div[text()='A Coruña']/../../td[@class='multiline']\")))\n",
    "    link_coruna_1[2].click()\n",
    "\n",
    "    # Click en 'Ayuntamientos'\n",
    "    wait = WebDriverWait(driver, 10)\n",
    "    link_junta = wait.until(EC.presence_of_all_elements_located((By.XPATH, \"//div[text()='Ayuntamientos']/../../td[@class='multiline']\")))\n",
    "    link_junta[3].click()\n",
    "\n",
    "    # Click en 'A Coruña' por 2ª vez\n",
    "    wait = WebDriverWait(driver, 10)\n",
    "    link_junta = wait.until(EC.presence_of_all_elements_located((By.XPATH, \"//div[text()='A Coruña']\")))\n",
    "    link_junta[1].click()\n",
    "\n",
    "    # Click en 'Junta de Gobierno del Ayuntamiento de A Coruña'\n",
    "    wait = WebDriverWait(driver, 10)\n",
    "    link_junta = wait.until(EC.presence_of_element_located((By.XPATH, \"//option[text()='Junta de Gobierno del Ayuntamiento de A Coruña']\")))\n",
    "    link_junta.click()\n",
    "\n",
    "    # Click en 'Añadir'\n",
    "    wait = WebDriverWait(driver, 10)\n",
    "    boton_anhadir = wait.until(EC.presence_of_element_located((By.XPATH, \"//input[@name='viewns_Z7_AVEQAI930OBRD02JPMTPG21004_:form1:botonAnadirMostrarPopUpArbolEO']\")))\n",
    "    boton_anhadir.click()\n",
    "\n",
    "    # Click en 'Buscar'\n",
    "    wait = WebDriverWait(driver, 10)\n",
    "    boton_buscar = wait.until(EC.presence_of_element_located((By.XPATH, \"//input[@title='Buscar']\")))\n",
    "    boton_buscar.click()\n"
   ]
  },
  {
   "cell_type": "markdown",
   "metadata": {},
   "source": [
    "### Carga de la URL y automatizaciones"
   ]
  },
  {
   "cell_type": "code",
   "execution_count": 7,
   "metadata": {},
   "outputs": [],
   "source": [
    "driver = webdriver.Firefox()\n",
    "esperar_carga_pagina(driver, URL)\n",
    "automatizaciones(driver)"
   ]
  },
  {
   "cell_type": "markdown",
   "metadata": {},
   "source": [
    "## Parseado de tabla e introducción de valores con BeautifulSoup4"
   ]
  },
  {
   "cell_type": "code",
   "execution_count": 8,
   "metadata": {},
   "outputs": [],
   "source": [
    "import requests\n",
    "from bs4 import BeautifulSoup\n",
    "import pprint"
   ]
  },
  {
   "cell_type": "code",
   "execution_count": 9,
   "metadata": {},
   "outputs": [],
   "source": [
    "body = driver.execute_script(\"return document.body\")\n",
    "page = body.get_attribute(\"innerHTML\")"
   ]
  },
  {
   "cell_type": "markdown",
   "metadata": {},
   "source": [
    "#### Parseo a HTML"
   ]
  },
  {
   "cell_type": "code",
   "execution_count": 10,
   "metadata": {},
   "outputs": [],
   "source": [
    "soup = BeautifulSoup(page, \"html.parser\")"
   ]
  },
  {
   "cell_type": "markdown",
   "metadata": {},
   "source": [
    "### Extracción de cabeceras"
   ]
  },
  {
   "cell_type": "code",
   "execution_count": 11,
   "metadata": {},
   "outputs": [
    {
     "name": "stdout",
     "output_type": "stream",
     "text": [
      "['Expediente', 'Tipo de Contrato', 'Estado', 'Importe', 'Fechas', 'Órgano de Contratación']\n"
     ]
    }
   ],
   "source": [
    "header = []\n",
    "job_elements = soup.find('table', id=\"myTablaBusquedaCustom\")\n",
    "\n",
    "for i, job_element in enumerate(job_elements.find_all('tr')):\n",
    "    if i != 0: break\n",
    "    else:\n",
    "        header = [el.text.strip() for el in job_element.find_all('th')]\n",
    "print(header)"
   ]
  },
  {
   "cell_type": "code",
   "execution_count": 12,
   "metadata": {},
   "outputs": [
    {
     "name": "stdout",
     "output_type": "stream",
     "text": [
      "[['', '211/2023/882', ''], ['', '211/2023/882', ''], ['', '211/2023/882', ''], ['', '211/2023/882', ''], ['', '211/2023/882', ''], ['', '211/2023/882', ''], ['', '370/2024/26', ''], ['', '370/2024/26', ''], ['', '370/2024/26', ''], ['', '370/2024/26', ''], ['', '370/2024/26', ''], ['', '370/2024/26', ''], ['', '236/2023/57', ''], ['', '236/2023/57', ''], ['', '236/2023/57', ''], ['', '236/2023/57', ''], ['', '236/2023/57', ''], ['', '236/2023/57', ''], ['', '851/2023/103', ''], ['', '851/2023/103', ''], ['', '851/2023/103', ''], ['', '851/2023/103', ''], ['', '851/2023/103', ''], ['', '851/2023/103', ''], ['', '237/2023/208', ''], ['', '237/2023/208', ''], ['', '237/2023/208', ''], ['', '237/2023/208', ''], ['', '237/2023/208', ''], ['', '237/2023/208', ''], ['', '231/2022/231', ''], ['', '231/2022/231', ''], ['', '231/2022/231', ''], ['', '231/2022/231', ''], ['', '231/2022/231', ''], ['', '231/2022/231', ''], ['', '861/2023/13', ''], ['', '861/2023/13', ''], ['', '861/2023/13', ''], ['', '861/2023/13', ''], ['', '861/2023/13', ''], ['', '861/2023/13', ''], ['', '236/2023/120', ''], ['', '236/2023/120', ''], ['', '236/2023/120', ''], ['', '236/2023/120', ''], ['', '236/2023/120', ''], ['', '236/2023/120', ''], ['', '521/2020/371', ''], ['', '521/2020/371', ''], ['', '521/2020/371', ''], ['', '521/2020/371', ''], ['', '521/2020/371', ''], ['', '521/2020/371', ''], ['', 'AD0/2024/2', ''], ['', 'AD0/2024/2', ''], ['', 'AD0/2024/2', ''], ['', 'AD0/2024/2', ''], ['', 'AD0/2024/2', ''], ['', 'AD0/2024/2', ''], ['', '111/2023/86', ''], ['', '111/2023/86', ''], ['', '111/2023/86', ''], ['', '111/2023/86', ''], ['', '111/2023/86', ''], ['', '111/2023/86', ''], ['', '350/2023/1', ''], ['', '350/2023/1', ''], ['', '350/2023/1', ''], ['', '350/2023/1', ''], ['', '350/2023/1', ''], ['', '350/2023/1', ''], ['', '526/2023/19 L4', ''], ['', '526/2023/19 L4', ''], ['', '526/2023/19 L4', ''], ['', '526/2023/19 L4', ''], ['', '526/2023/19 L4', ''], ['', '526/2023/19 L4', ''], ['', '526/2023/19 L2', ''], ['', '526/2023/19 L2', ''], ['', '526/2023/19 L2', ''], ['', '526/2023/19 L2', ''], ['', '526/2023/19 L2', ''], ['', '526/2023/19 L2', ''], ['', '105/2023/6073', ''], ['', '105/2023/6073', ''], ['', '105/2023/6073', ''], ['', '105/2023/6073', ''], ['', '105/2023/6073', ''], ['', '105/2023/6073', ''], ['', '430/2023/13', ''], ['', '430/2023/13', ''], ['', '430/2023/13', ''], ['', '430/2023/13', ''], ['', '430/2023/13', ''], ['', '430/2023/13', ''], ['', '527/2023/28', ''], ['', '527/2023/28', ''], ['', '527/2023/28', ''], ['', '527/2023/28', ''], ['', '527/2023/28', ''], ['', '527/2023/28', ''], ['', 'A31/2022/115', ''], ['', 'A31/2022/115', ''], ['', 'A31/2022/115', ''], ['', 'A31/2022/115', ''], ['', 'A31/2022/115', ''], ['', 'A31/2022/115', ''], ['', '237/2023/160', ''], ['', '237/2023/160', ''], ['', '237/2023/160', ''], ['', '237/2023/160', ''], ['', '237/2023/160', ''], ['', '237/2023/160', ''], ['', '238/2023/294', ''], ['', '238/2023/294', ''], ['', '238/2023/294', ''], ['', '238/2023/294', ''], ['', '238/2023/294', ''], ['', '238/2023/294', '']]\n"
     ]
    }
   ],
   "source": [
    "def crearInforme():\n",
    "    row = []\n",
    "    rows = []\n",
    "    body = driver.execute_script(\"return document.body\")\n",
    "    source = body.get_attribute('innerHTML')\n",
    "    soup = BeautifulSoup(source, 'html.parser')\n",
    "    job_elements = soup.find('table', id=\"myTablaBusquedaCustom\")\n",
    "    for i, job_element in enumerate(job_elements.find_all('tr')):\n",
    "        if i>1:\n",
    "            ind = 0\n",
    "            for el in job_element.find_all('td'):\n",
    "                row = [el.text.strip() for el in job_element.find('div')]\n",
    "                rows.append(row)\n",
    "    print(rows)\n",
    "\n",
    "crearInforme()"
   ]
  },
  {
   "cell_type": "code",
   "execution_count": 13,
   "metadata": {},
   "outputs": [],
   "source": [
    "from io import StringIO\n",
    "from bs4 import BeautifulSoup\n",
    "import pandas as pd\n",
    "\n",
    "\n",
    "dfT = pd.DataFrame([])\n",
    "i=0\n",
    "while(True):\n",
    "    waitFinishLoad(driver,by=By.XPATH,idLoader=\"//div/span[text()='Importe']\")\n",
    "    i+=1\n",
    "    soup=BeautifulSoup(driver.page_source,'html.parser')\n",
    "    df=pd.read_html(StringIO(str(soup.find(id=\"myTablaBusquedaCustom\"))))[0]\n",
    "    df=df[~df.iloc[:,0].str.startswith('Página')]\n",
    "    dfT=pd.concat([dfT,df])\n",
    "    \n",
    "    if not checkEndPage(driver,screenshot=f\"TablaNum{i}.png\"):\n",
    "        break\n",
    "    goToNextPage(driver)"
   ]
  },
  {
   "cell_type": "code",
   "execution_count": 14,
   "metadata": {},
   "outputs": [],
   "source": [
    "from numpy import float64\n",
    "\n",
    "\n",
    "for i in dfT.columns:\n",
    "    dfT[i] = dfT[i].str.replace(r'(?<![A-Z \"“()])([A-Z]+)', lambda x: f\"\\\\n{x.group(1)}\" if x.start() != 0 else x.group(1), regex=True)\n",
    "\n",
    "dfT['Importe'] = dfT['Importe'].apply(lambda x: float(x.replace('.', '').replace(',', '.')))"
   ]
  },
  {
   "cell_type": "code",
   "execution_count": 15,
   "metadata": {},
   "outputs": [],
   "source": [
    "import numpy as np\n",
    "\n",
    "\n",
    "dfT['Importe']=dfT['Importe'].fillna(0.0)\n",
    "dfT = dfT.replace({np.nan: None})"
   ]
  },
  {
   "cell_type": "markdown",
   "metadata": {},
   "source": [
    "## SQL Server\n",
    "> docker run -e \"ACCEPT_EULA=Y\" -e \"MSSQL_SA_PASSWORD=Abcd1234.\" -e \"MSSQL_PID=Evaluation\" -p 41433:1433 --name sqlpreview --hostname sqlpreview -d mcr.microsoft.com/mssql/server:2022-preview-ubuntu-22.04"
   ]
  },
  {
   "cell_type": "markdown",
   "metadata": {},
   "source": [
    "La contraseña debe tener una mayúscula y 8 caracteres, debemos instalar **pyodbc** para manejar el SQL Server.<br>***conda install -c conda-forge -y pyodbc***"
   ]
  },
  {
   "cell_type": "markdown",
   "metadata": {},
   "source": [
    "### Instalación de driver necesario"
   ]
  }
 ],
 "metadata": {
  "kernelspec": {
   "display_name": "bigdata",
   "language": "python",
   "name": "python3"
  },
  "language_info": {
   "codemirror_mode": {
    "name": "ipython",
    "version": 3
   },
   "file_extension": ".py",
   "mimetype": "text/x-python",
   "name": "python",
   "nbconvert_exporter": "python",
   "pygments_lexer": "ipython3",
   "version": "3.12.1"
  }
 },
 "nbformat": 4,
 "nbformat_minor": 2
}
