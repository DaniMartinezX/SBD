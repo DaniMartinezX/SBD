{
 "cells": [
  {
   "cell_type": "markdown",
   "metadata": {},
   "source": [
    "# T2.4 Extraer con selenium datos de licitacións do Concello da Coruña\n",
    "Queremos facer un código que garde nunha BBDD a Microsoft SQL Server a información dos expedientes de licitación do Concello da Coruña e nun directorio (no actual) as capturas de pantalla de cada expediente.\n",
    "\n",
    "Para montar o Microsoft SQL Server sigue a guía de: https://jfsanchez.es/docs/docker-sqlserver-microsoft/\n",
    "\n",
    "Debes empregar selenium e a páxina: https://contrataciondelestado.es\n",
    "\n",
    "Debes navegar por ela coma se indica no documento.\n",
    "\n",
    "Por cada elemento (expediente), meterse nel e facer captura de pantalla (automáticamente, coa API de selenium).\n",
    "\n",
    "Entrega:\n",
    "\n",
    "    O código nun jupyter notebook.\n",
    "    A BBDD exportada de Microsoft SQL Server.\n",
    "    Un zip coas capturas de pantalla que fixo selenium.\n"
   ]
  },
  {
   "cell_type": "code",
   "execution_count": 32,
   "metadata": {},
   "outputs": [
    {
     "data": {
      "text/plain": [
       "'C:\\\\Users\\\\daniel.martinezcarre\\\\.wdm\\\\drivers\\\\geckodriver\\\\win64\\\\v0.34.0\\\\geckodriver.exe'"
      ]
     },
     "execution_count": 32,
     "metadata": {},
     "output_type": "execute_result"
    }
   ],
   "source": [
    "from webdriver_manager.firefox import GeckoDriverManager\n",
    "GeckoDriverManager().install()"
   ]
  },
  {
   "cell_type": "markdown",
   "metadata": {},
   "source": [
    "## Importacións"
   ]
  },
  {
   "cell_type": "code",
   "execution_count": 33,
   "metadata": {},
   "outputs": [],
   "source": [
    "import argparse\n",
    "from enum import Enum\n",
    "import sys\n",
    "from selenium import webdriver\n",
    "from selenium.webdriver.common.by import By\n",
    "from selenium import webdriver\n",
    "from selenium.webdriver.support.ui import WebDriverWait\n",
    "from selenium.webdriver.support import expected_conditions as EC\n",
    "import time\n",
    "import random\n",
    "from bs4 import BeautifulSoup\n",
    "import pprint\n",
    "from io import StringIO\n",
    "from bs4 import BeautifulSoup\n",
    "import pandas as pd\n"
   ]
  },
  {
   "cell_type": "markdown",
   "metadata": {},
   "source": [
    "### Variables e funcións"
   ]
  },
  {
   "cell_type": "code",
   "execution_count": 34,
   "metadata": {},
   "outputs": [],
   "source": [
    "URL=\"https://contrataciondelestado.es/\""
   ]
  },
  {
   "cell_type": "code",
   "execution_count": 35,
   "metadata": {},
   "outputs": [],
   "source": [
    "def waitFinishLoad(driver,idLoader,needsDisapeared=False,by=By.ID,needsWait=False):\n",
    "    #Espera a la carga de un elemento antes de continuar\n",
    "    if idLoader is None:\n",
    "        return\n",
    "    WebDriverWait(driver, timeout=10).until(EC.presence_of_element_located((by, idLoader)))\n",
    "    if needsDisapeared:\n",
    "        WebDriverWait(driver, timeout=10).until(EC.invisibility_of_element((by, idLoader)))\n",
    "    if needsWait:\n",
    "        time.sleep(random.choice([0.1,0.2,0.3,0.4,0.5,0.6]))\n",
    "    else:\n",
    "        time.sleep(random.choice([0.05,0.1,0.2]))\n",
    "\n",
    "def elementBy(query,driver,**kargs):\n",
    "    if not kargs.get(\"needsWait\",False):\n",
    "        waitFinishLoad(driver,kargs.get(\"idLoader\",None),by=kargs.get(\"by\",By.ID),needsWait=kargs.get(\"needsWait\",False))\n",
    "    try:\n",
    "        element=driver.find_element(kargs.get(\"byq\",By.XPATH),query)\n",
    "        if kargs.get(\"screenshot\"):\n",
    "            driver.execute_script(\"arguments[0].scrollIntoView();\", element)\n",
    "    except:\n",
    "        return None\n",
    "    waitFinishLoad(driver,kargs.get(\"idLoader\",None),by=kargs.get(\"by\",By.ID),needsWait=kargs.get(\"needsWait\",False))\n",
    "    return element\n",
    "\n",
    "\n",
    "\n",
    "def goToNextPage(driver):\n",
    "    element=elementBy(\"//input[@value='Siguiente']\",driver,idLoader=\"//table[@id='myTablaBusquedaCustom']\",by=By.XPATH)\n",
    "    driver.execute_script(\"arguments[0].scrollIntoView();\", element)\n",
    "    element.click()\n"
   ]
  },
  {
   "cell_type": "code",
   "execution_count": 36,
   "metadata": {},
   "outputs": [],
   "source": [
    "def esperar_carga_pagina(driver, url):\n",
    "    \"\"\"\n",
    "    Espera a que la página web se cargue completamente.\n",
    "\n",
    "    Args:\n",
    "        driver: El objeto del navegador web.\n",
    "        url: La URL de la página web que se quiere cargar.\n",
    "    \"\"\"\n",
    "    # Carga la página web\n",
    "    driver.get(url)\n",
    "\n",
    "    # Espera a que la página se cargue completamente\n",
    "    wait = WebDriverWait(driver, 10)\n",
    "    wait.until(lambda driver: driver.execute_script(\"return document.readyState\") == \"complete\")\n",
    "\n",
    "\n",
    "def automatizaciones(driver):\n",
    "    \"\"\"\n",
    "    Ejecuta las automatizaciones en la página web con esperas.\n",
    "\n",
    "    Args:\n",
    "        driver: El objeto del navegador web.\n",
    "    \"\"\"\n",
    "\n",
    "    # Click en 'Publicaciones'\n",
    "    wait = WebDriverWait(driver, 10)\n",
    "    link = wait.until(EC.visibility_of_element_located((By.XPATH, \"//a[@href='/wps/portal/licitaciones']\")))\n",
    "    link.click()\n",
    "\n",
    "    # Click en 'Licitaciones'\n",
    "    wait = WebDriverWait(driver, 10)\n",
    "    link_licitaciones = wait.until(EC.presence_of_element_located((By.CLASS_NAME, \"divLogo\")))\n",
    "    link_licitaciones.click()\n",
    "\n",
    "    # Click en 'Búsqueda avanzada'\n",
    "    wait = WebDriverWait(driver, 10)\n",
    "    link_busqueda_avanzada = wait.until(EC.presence_of_element_located((By.ID, \"viewns_Z7_AVEQAI930OBRD02JPMTPG21004_:form1:textBusquedaAvanzada\")))\n",
    "    link_busqueda_avanzada.click()\n",
    "\n",
    "    # Click en 'Seleccionar'\n",
    "    wait = WebDriverWait(driver, 10)\n",
    "    link_busqueda_avanzada = wait.until(EC.presence_of_element_located((By.ID, \"viewns_Z7_AVEQAI930OBRD02JPMTPG21004_:form1:idSeleccionarOCLink\")))\n",
    "    link_busqueda_avanzada.click()\n",
    "\n",
    "    # Click en 'Entidades'\n",
    "    wait = WebDriverWait(driver, 10)\n",
    "    entidades = wait.until(EC.presence_of_element_located((By.XPATH, \"//div[text()='ENTIDADES LOCALES']/../../td[@class='multiline']\")))\n",
    "    entidades.click()\n",
    "\n",
    "    # Click en 'Galicia'\n",
    "    wait = WebDriverWait(driver, 10)\n",
    "    galicia = wait.until(EC.presence_of_all_elements_located((By.XPATH, \"//div[text()='Galicia']/../../td[@class='multiline']\")))\n",
    "    galicia[1].click()\n",
    "\n",
    "    # Click en 'A Coruña'\n",
    "    wait = WebDriverWait(driver, 10)\n",
    "    link_coruna_1 = wait.until(EC.presence_of_all_elements_located((By.XPATH, \"//div[text()='A Coruña']/../../td[@class='multiline']\")))\n",
    "    link_coruna_1[2].click()\n",
    "\n",
    "    # Click en 'Ayuntamientos'\n",
    "    wait = WebDriverWait(driver, 10)\n",
    "    link_junta = wait.until(EC.presence_of_all_elements_located((By.XPATH, \"//div[text()='Ayuntamientos']/../../td[@class='multiline']\")))\n",
    "    link_junta[3].click()\n",
    "\n",
    "    # Click en 'A Coruña' por 2ª vez\n",
    "    wait = WebDriverWait(driver, 10)\n",
    "    link_junta = wait.until(EC.presence_of_all_elements_located((By.XPATH, \"//div[text()='A Coruña']\")))\n",
    "    link_junta[1].click()\n",
    "\n",
    "    # Click en 'Junta de Gobierno del Ayuntamiento de A Coruña'\n",
    "    wait = WebDriverWait(driver, 10)\n",
    "    link_junta = wait.until(EC.presence_of_element_located((By.XPATH, \"//option[text()='Junta de Gobierno del Ayuntamiento de A Coruña']\")))\n",
    "    link_junta.click()\n",
    "\n",
    "    # Click en 'Añadir'\n",
    "    wait = WebDriverWait(driver, 10)\n",
    "    boton_anhadir = wait.until(EC.presence_of_element_located((By.XPATH, \"//input[@name='viewns_Z7_AVEQAI930OBRD02JPMTPG21004_:form1:botonAnadirMostrarPopUpArbolEO']\")))\n",
    "    boton_anhadir.click()\n",
    "\n",
    "    # Click en 'Buscar'\n",
    "    wait = WebDriverWait(driver, 10)\n",
    "    boton_buscar = wait.until(EC.presence_of_element_located((By.XPATH, \"//input[@title='Buscar']\")))\n",
    "    boton_buscar.click()\n"
   ]
  },
  {
   "cell_type": "markdown",
   "metadata": {},
   "source": [
    "## Carga de la URL y automatizaciones"
   ]
  },
  {
   "cell_type": "code",
   "execution_count": 39,
   "metadata": {},
   "outputs": [],
   "source": [
    "driver = webdriver.Firefox()\n",
    "esperar_carga_pagina(driver, URL)\n",
    "automatizaciones(driver)"
   ]
  },
  {
   "cell_type": "markdown",
   "metadata": {},
   "source": [
    "## Parseado de tabla e introducción de valores con BeautifulSoup4"
   ]
  },
  {
   "cell_type": "code",
   "execution_count": 40,
   "metadata": {},
   "outputs": [],
   "source": [
    "body = driver.execute_script(\"return document.body\")\n",
    "page = body.get_attribute(\"innerHTML\")"
   ]
  },
  {
   "cell_type": "markdown",
   "metadata": {},
   "source": [
    "#### Parseo a HTML"
   ]
  },
  {
   "cell_type": "code",
   "execution_count": 41,
   "metadata": {},
   "outputs": [],
   "source": [
    "soup = BeautifulSoup(page, \"html.parser\")"
   ]
  },
  {
   "cell_type": "markdown",
   "metadata": {},
   "source": [
    "### Extracción de cabeceiras"
   ]
  },
  {
   "cell_type": "code",
   "execution_count": 42,
   "metadata": {},
   "outputs": [
    {
     "name": "stdout",
     "output_type": "stream",
     "text": [
      "['Expediente', 'Tipo de Contrato', 'Estado', 'Importe', 'Fechas', 'Órgano de Contratación']\n"
     ]
    }
   ],
   "source": [
    "def sacar_cabeceras():\n",
    "    \"\"\"\n",
    "    Imprime las cabeceras de la tabla\n",
    "    \"\"\"\n",
    "    header = []\n",
    "    job_elements = soup.find('table', id=\"myTablaBusquedaCustom\")\n",
    "\n",
    "    for i, job_element in enumerate(job_elements.find_all('tr')):\n",
    "        if i != 0: break\n",
    "        else:\n",
    "            header = [el.text.strip() for el in job_element.find_all('th')]\n",
    "    print(header)\n",
    "sacar_cabeceras()"
   ]
  },
  {
   "cell_type": "markdown",
   "metadata": {},
   "source": [
    "### Rascado de datos "
   ]
  },
  {
   "cell_type": "code",
   "execution_count": 43,
   "metadata": {},
   "outputs": [],
   "source": [
    "def crearInforme():\n",
    "    \"\"\"\n",
    "    Retorna los datos de la tabla de una página\n",
    "    \"\"\"\n",
    "    rows = []\n",
    "    body = driver.execute_script(\"return document.body\")\n",
    "    source = body.get_attribute('innerHTML')\n",
    "    soup = BeautifulSoup(source, 'html.parser')\n",
    "    job_elements = soup.find('table', id=\"myTablaBusquedaCustom\")\n",
    "    for i, job_element in enumerate(job_elements.find_all('tr')):\n",
    "        if i>1:\n",
    "            row = []        \n",
    "            for el in job_element.find_all('td'):\n",
    "                row.append(el.text.strip())\n",
    "            rows.append(row)\n",
    "    return rows\n",
    "\n",
    "rows = crearInforme()"
   ]
  },
  {
   "cell_type": "markdown",
   "metadata": {},
   "source": [
    "## Capturas de expedientes y volcado de datos en variable"
   ]
  },
  {
   "cell_type": "code",
   "execution_count": 44,
   "metadata": {},
   "outputs": [
    {
     "name": "stdout",
     "output_type": "stream",
     "text": [
      "No hay más páginas\n"
     ]
    },
    {
     "ename": "TypeError",
     "evalue": "'NoneType' object is not iterable",
     "output_type": "error",
     "traceback": [
      "\u001b[1;31m---------------------------------------------------------------------------\u001b[0m",
      "\u001b[1;31mTypeError\u001b[0m                                 Traceback (most recent call last)",
      "\u001b[1;32mc:\\Users\\daniel.martinezcarre\\Desktop\\Repositorios\\sbd_repositorio\\SBD\\practicas\\T2.4\\T2.4_extraer_con_selenium_coruña.ipynb Celda 20\u001b[0m line \u001b[0;36m6\n\u001b[0;32m     <a href='vscode-notebook-cell:/c%3A/Users/daniel.martinezcarre/Desktop/Repositorios/sbd_repositorio/SBD/practicas/T2.4/T2.4_extraer_con_selenium_coru%C3%B1a.ipynb#X25sZmlsZQ%3D%3D?line=66'>67</a>\u001b[0m \u001b[39mfor\u001b[39;00m i \u001b[39min\u001b[39;00m \u001b[39mrange\u001b[39m(\u001b[39m45\u001b[39m):\n\u001b[0;32m     <a href='vscode-notebook-cell:/c%3A/Users/daniel.martinezcarre/Desktop/Repositorios/sbd_repositorio/SBD/practicas/T2.4/T2.4_extraer_con_selenium_coru%C3%B1a.ipynb#X25sZmlsZQ%3D%3D?line=67'>68</a>\u001b[0m     lista \u001b[39m=\u001b[39m cap_exp()\n\u001b[1;32m---> <a href='vscode-notebook-cell:/c%3A/Users/daniel.martinezcarre/Desktop/Repositorios/sbd_repositorio/SBD/practicas/T2.4/T2.4_extraer_con_selenium_coru%C3%B1a.ipynb#X25sZmlsZQ%3D%3D?line=68'>69</a>\u001b[0m     \u001b[39mfor\u001b[39;00m l \u001b[39min\u001b[39;00m lista:\n\u001b[0;32m     <a href='vscode-notebook-cell:/c%3A/Users/daniel.martinezcarre/Desktop/Repositorios/sbd_repositorio/SBD/practicas/T2.4/T2.4_extraer_con_selenium_coru%C3%B1a.ipynb#X25sZmlsZQ%3D%3D?line=69'>70</a>\u001b[0m         datos\u001b[39m.\u001b[39mappend(l)\n",
      "\u001b[1;31mTypeError\u001b[0m: 'NoneType' object is not iterable"
     ]
    }
   ],
   "source": [
    "datos = []\n",
    "lista = []\n",
    "\n",
    "def cap_exp():\n",
    "    \"\"\"\n",
    "    Este método realiza varias funciones:\n",
    "        - Ejecuta, en una pestaña aparte, todos los expedientes.\n",
    "        - Hace capturas de todos los expedientes y los guarda en el directorio específicado.\n",
    "        - Se mueve de página a medida que va iterando todos los elementos de la actual.\n",
    "        - Retorna un listado con todos los datos de todas las páginas.\"\"\"\n",
    "    try:\n",
    "        datos = []\n",
    "        enlaces = []\n",
    "        ind = 0\n",
    "        path = \"C:\\\\Users\\\\daniel.martinezcarre\\\\Desktop\\\\Repositorios\\\\sbd_repositorio\\\\SBD\\\\practicas\\\\T2.4\\\\capturas\\\\\"\n",
    "\n",
    "        while True:\n",
    "\n",
    "            # Inicializo filas para actualizar nuevos datos\n",
    "            filas = []\n",
    "\n",
    "            # Mi actual driver\n",
    "            base_handle = driver.current_window_handle\n",
    "\n",
    "            td = driver.find_elements(By.XPATH,'.//td[@class=\"tdExpediente\"]')\n",
    "            for i in td:\n",
    "                enlace = i.find_element(By.XPATH,'.//div//a[2]').get_attribute(\"href\")\n",
    "                enlaces.append(enlace)\n",
    "\n",
    "            wait = WebDriverWait(driver, 10)\n",
    "\n",
    "            for link in enlaces:\n",
    "                ind += 1\n",
    "                try:\n",
    "                    # Abrir enlace en pestaña nueva\n",
    "                    driver.execute_script(f\"window.open('{link}', 'new_window')\")\n",
    "\n",
    "                    # Cambiar el foco a la nueva pestaña\n",
    "                    driver.switch_to.window(driver.window_handles[-1])\n",
    "\n",
    "                    # Esperar a que la página se cargue\n",
    "                    WebDriverWait(driver, 30).until(\n",
    "                    EC.presence_of_element_located((By.ID, \"footer-newShow\")))\n",
    "                    \n",
    "                    # Capturar la pantalla\n",
    "                    driver.save_screenshot(path+f\"{ind}_expediente.png\")\n",
    "\n",
    "                    driver.close()\n",
    "\n",
    "                    # Cambiar el foco a la pestaña principal\n",
    "                    driver.switch_to.window(driver.window_handles[0])\n",
    "                except Exception as e:\n",
    "                    print(f\"Error al procesar enlace: {link} - {e}\")\n",
    "            \n",
    "            goToNextPage(driver)\n",
    "            filas = crearInforme()\n",
    "\n",
    "            # Descarga de los datos recogidos al conjunto de datos\n",
    "            for i in filas:\n",
    "                datos.append(i)\n",
    "            return datos\n",
    "    except:\n",
    "        print(\"No hay más páginas\")\n",
    "\n",
    "\n",
    "# Cargo todos los datos en la variable para insertarlos en la BBDD\n",
    "for i in range(45):\n",
    "    lista = cap_exp()\n",
    "    for l in lista:\n",
    "        datos.append(l)    \n",
    "    "
   ]
  },
  {
   "cell_type": "code",
   "execution_count": 45,
   "metadata": {},
   "outputs": [
    {
     "data": {
      "text/plain": [
       "867"
      ]
     },
     "execution_count": 45,
     "metadata": {},
     "output_type": "execute_result"
    }
   ],
   "source": [
    "len(datos)"
   ]
  },
  {
   "cell_type": "markdown",
   "metadata": {},
   "source": [
    "## SQL Server\n",
    "> docker run -e \"ACCEPT_EULA=Y\" -e \"MSSQL_SA_PASSWORD=Abcd1234.\" -e \"MSSQL_PID=Evaluation\" -p 41433:1433 --name sqlpreview --hostname sqlpreview -d mcr.microsoft.com/mssql/server:2022-preview-ubuntu-22.04"
   ]
  },
  {
   "cell_type": "markdown",
   "metadata": {},
   "source": [
    "A contrasinal debe ter unha maiúscula e 8 caracteres, debemos instalar **pyodbc** para manejar el SQL Server.<br>***conda install -c conda-forge -y pyodbc***"
   ]
  },
  {
   "cell_type": "markdown",
   "metadata": {},
   "source": [
    "### Instalación de driver necesario"
   ]
  },
  {
   "cell_type": "markdown",
   "metadata": {},
   "source": [
    "https://learn.microsoft.com/en-us/sql/connect/odbc/download-odbc-driver-for-sql-server?view=sql-server-ver16#download-for-windows"
   ]
  },
  {
   "cell_type": "code",
   "execution_count": 46,
   "metadata": {},
   "outputs": [],
   "source": [
    "import pyodbc"
   ]
  },
  {
   "cell_type": "code",
   "execution_count": 47,
   "metadata": {},
   "outputs": [],
   "source": [
    "DB_HOST = '10.133.29.229,41433'\n",
    "DB_NAME = 'datos_corunha'\n",
    "DB_USER = 'sa'\n",
    "DB_PASSWORD = 'Abcd1234.'"
   ]
  },
  {
   "cell_type": "markdown",
   "metadata": {},
   "source": [
    "### Establecemos conexión"
   ]
  },
  {
   "cell_type": "code",
   "execution_count": 48,
   "metadata": {},
   "outputs": [
    {
     "name": "stdout",
     "output_type": "stream",
     "text": [
      "DRIVER={ODBC Driver 18 for SQL Server};\n",
      "SERVER=10.133.29.229,41433;DATABASE=datos_corunha;\n",
      "UID=sa;PWD=Abcd1234.;\n",
      "Encrypt=Yes;TrustServerCertificate=Yes\n"
     ]
    }
   ],
   "source": [
    "connectionString = f'''DRIVER={{ODBC Driver 18 for SQL Server}};\n",
    "SERVER={DB_HOST};DATABASE={DB_NAME};\n",
    "UID={DB_USER};PWD={DB_PASSWORD};\n",
    "Encrypt=Yes;TrustServerCertificate=Yes'''\n",
    "\n",
    "print(connectionString)\n",
    "conexion = pyodbc.connect(connectionString)\n"
   ]
  },
  {
   "cell_type": "markdown",
   "metadata": {},
   "source": [
    "### Creación do dataframe de datos"
   ]
  },
  {
   "cell_type": "code",
   "execution_count": 49,
   "metadata": {},
   "outputs": [],
   "source": [
    "titulos = ['expediente', 'tipo_contrato', 'estado', 'importe', 'fechas', 'organo_contratacion']\n",
    "\n",
    "df = pd.DataFrame(datos, columns= titulos)"
   ]
  },
  {
   "cell_type": "markdown",
   "metadata": {},
   "source": [
    "> Modificación do importe para poder importar od datos a BBDD"
   ]
  },
  {
   "cell_type": "code",
   "execution_count": 50,
   "metadata": {},
   "outputs": [],
   "source": [
    "# Reemplazo de caracteres necesarios para o posterior cambio de tipo de dato\n",
    "df['importe'] = df['importe'].str.replace('.','').str.replace(',','.')\n",
    "\n",
    "# Cambio de tipo de dato a float\n",
    "df['importe']= df['importe'].astype('float')"
   ]
  },
  {
   "cell_type": "markdown",
   "metadata": {},
   "source": [
    "## Insertando datos na base de datos"
   ]
  },
  {
   "cell_type": "code",
   "execution_count": 51,
   "metadata": {},
   "outputs": [],
   "source": [
    "#Creamos un cursos para logo acceder aos resultados\n",
    "cursor = conexion.cursor()\n",
    "\n",
    "SQL_PREPARED_STATEMENT = \"\"\"\n",
    "INSERT INTO contratos(expediente, tipo_contrato, estado, importe, fechas, organo)\n",
    "VALUES (?,?,?,?,?,?)\n",
    "\"\"\"\n",
    "\n",
    "# Hacerlo con executemany()\n",
    "cursor.executemany(\"\"\"\n",
    "                   INSERT INTO contratos(expediente,tipo_contrato,estado,importe,fechas,organo)\n",
    "                   Values (?,?,?,?,?,?)\n",
    "\"\"\",df.values.tolist())\n",
    "cursor.commit()\n",
    "\n",
    "#Pechar o cursor e a conexión\n",
    "cursor.close()\n",
    "conexion.close()"
   ]
  }
 ],
 "metadata": {
  "kernelspec": {
   "display_name": "bigdata",
   "language": "python",
   "name": "python3"
  },
  "language_info": {
   "codemirror_mode": {
    "name": "ipython",
    "version": 3
   },
   "file_extension": ".py",
   "mimetype": "text/x-python",
   "name": "python",
   "nbconvert_exporter": "python",
   "pygments_lexer": "ipython3",
   "version": "3.8.18"
  }
 },
 "nbformat": 4,
 "nbformat_minor": 2
}
